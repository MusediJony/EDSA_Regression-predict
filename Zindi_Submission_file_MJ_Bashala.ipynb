{
 "cells": [
  {
   "cell_type": "markdown",
   "metadata": {},
   "source": [
    "# Introduction\n",
    "\n",
    "### Task at hand: \n",
    "\n",
    "### To predict the estimated time of arrival for Orders.\n",
    "\n",
    "### Background information:\n",
    "\n",
    "### Many logistics Businesses in Africa make use of applications to help with their logistics and day to day busniness and It has been mentioned that logistics in Sub-Saharan Africa plays a major role  in increasing the cost of manufactured goods by up to 320%! \n",
    "\n",
    "### With that being said, Sendy, a company based in Kenya, Nairobi  is hosting a competition to make use of data provided by them (historic data) and predict the time it will take for riders to deliver orders to their destination.\n",
    "\n",
    "### This requires to build a machine learning model that will be trained with the data, and therefore be able to be used to predict future data, hence ‘time’, and therefore in a nutshell, predict an accurate delivery time “from picking up a package to arriving at the final destination” (Zindy web page: EDSA: Sendy Logistics Challenge by Explore Data Science Academy)\n",
    "\n",
    "### The solution will help Sendy and their respective clients improve on many aspects such us logistics, customer service and profit.\n"
   ]
  },
  {
   "cell_type": "markdown",
   "metadata": {},
   "source": [
    "#"
   ]
  },
  {
   "cell_type": "markdown",
   "metadata": {},
   "source": [
    "# Data Preprocessing"
   ]
  },
  {
   "cell_type": "markdown",
   "metadata": {},
   "source": [
    "## Importing Libraries"
   ]
  },
  {
   "cell_type": "code",
   "execution_count": 940,
   "metadata": {},
   "outputs": [],
   "source": [
    "import pandas as pd\n",
    "import numpy as np\n",
    "from sklearn.impute import SimpleImputer"
   ]
  },
  {
   "cell_type": "markdown",
   "metadata": {},
   "source": [
    "## Importing the Data"
   ]
  },
  {
   "cell_type": "code",
   "execution_count": 941,
   "metadata": {},
   "outputs": [],
   "source": [
    "data_train = pd.read_csv('Train.csv')\n",
    "data_test = pd.read_csv('Test.csv')\n",
    "riders = pd.read_csv('Riders.csv')\n",
    "sample = pd.read_csv('SampleSubmission.csv')\n",
    "variable = pd.read_csv('VariableDefinitions.csv')\n"
   ]
  },
  {
   "cell_type": "code",
   "execution_count": 990,
   "metadata": {},
   "outputs": [
    {
     "data": {
      "text/html": [
       "<div>\n",
       "<style scoped>\n",
       "    .dataframe tbody tr th:only-of-type {\n",
       "        vertical-align: middle;\n",
       "    }\n",
       "\n",
       "    .dataframe tbody tr th {\n",
       "        vertical-align: top;\n",
       "    }\n",
       "\n",
       "    .dataframe thead th {\n",
       "        text-align: right;\n",
       "    }\n",
       "</style>\n",
       "<table border=\"1\" class=\"dataframe\">\n",
       "  <thead>\n",
       "    <tr style=\"text-align: right;\">\n",
       "      <th></th>\n",
       "      <th>Order No</th>\n",
       "      <th>User Id</th>\n",
       "      <th>Vehicle Type</th>\n",
       "      <th>Platform Type</th>\n",
       "      <th>Personal or Business</th>\n",
       "      <th>Placement - Day of Month</th>\n",
       "      <th>Placement - Weekday (Mo = 1)</th>\n",
       "      <th>Placement - Time</th>\n",
       "      <th>Confirmation - Day of Month</th>\n",
       "      <th>Confirmation - Weekday (Mo = 1)</th>\n",
       "      <th>...</th>\n",
       "      <th>Pickup - Time</th>\n",
       "      <th>Distance (KM)</th>\n",
       "      <th>Temperature</th>\n",
       "      <th>Precipitation in millimeters</th>\n",
       "      <th>Pickup Lat</th>\n",
       "      <th>Pickup Long</th>\n",
       "      <th>Destination Lat</th>\n",
       "      <th>Destination Long</th>\n",
       "      <th>Rider Id</th>\n",
       "      <th>Time from Pickup to Arrival</th>\n",
       "    </tr>\n",
       "  </thead>\n",
       "  <tbody>\n",
       "    <tr>\n",
       "      <th>0</th>\n",
       "      <td>Order_No_4211</td>\n",
       "      <td>User_Id_633</td>\n",
       "      <td>Bike</td>\n",
       "      <td>3</td>\n",
       "      <td>Business</td>\n",
       "      <td>9</td>\n",
       "      <td>5</td>\n",
       "      <td>9:35:46 AM</td>\n",
       "      <td>9</td>\n",
       "      <td>5</td>\n",
       "      <td>...</td>\n",
       "      <td>10:27:30 AM</td>\n",
       "      <td>4</td>\n",
       "      <td>20.4</td>\n",
       "      <td>NaN</td>\n",
       "      <td>-1.317755</td>\n",
       "      <td>36.830370</td>\n",
       "      <td>-1.300406</td>\n",
       "      <td>36.829741</td>\n",
       "      <td>Rider_Id_432</td>\n",
       "      <td>745</td>\n",
       "    </tr>\n",
       "    <tr>\n",
       "      <th>1</th>\n",
       "      <td>Order_No_25375</td>\n",
       "      <td>User_Id_2285</td>\n",
       "      <td>Bike</td>\n",
       "      <td>3</td>\n",
       "      <td>Personal</td>\n",
       "      <td>12</td>\n",
       "      <td>5</td>\n",
       "      <td>11:16:16 AM</td>\n",
       "      <td>12</td>\n",
       "      <td>5</td>\n",
       "      <td>...</td>\n",
       "      <td>11:44:09 AM</td>\n",
       "      <td>16</td>\n",
       "      <td>26.4</td>\n",
       "      <td>NaN</td>\n",
       "      <td>-1.351453</td>\n",
       "      <td>36.899315</td>\n",
       "      <td>-1.295004</td>\n",
       "      <td>36.814358</td>\n",
       "      <td>Rider_Id_856</td>\n",
       "      <td>1993</td>\n",
       "    </tr>\n",
       "    <tr>\n",
       "      <th>2</th>\n",
       "      <td>Order_No_1899</td>\n",
       "      <td>User_Id_265</td>\n",
       "      <td>Bike</td>\n",
       "      <td>3</td>\n",
       "      <td>Business</td>\n",
       "      <td>30</td>\n",
       "      <td>2</td>\n",
       "      <td>12:39:25 PM</td>\n",
       "      <td>30</td>\n",
       "      <td>2</td>\n",
       "      <td>...</td>\n",
       "      <td>12:53:03 PM</td>\n",
       "      <td>3</td>\n",
       "      <td>NaN</td>\n",
       "      <td>NaN</td>\n",
       "      <td>-1.308284</td>\n",
       "      <td>36.843419</td>\n",
       "      <td>-1.300921</td>\n",
       "      <td>36.828195</td>\n",
       "      <td>Rider_Id_155</td>\n",
       "      <td>455</td>\n",
       "    </tr>\n",
       "    <tr>\n",
       "      <th>3</th>\n",
       "      <td>Order_No_9336</td>\n",
       "      <td>User_Id_1402</td>\n",
       "      <td>Bike</td>\n",
       "      <td>3</td>\n",
       "      <td>Business</td>\n",
       "      <td>15</td>\n",
       "      <td>5</td>\n",
       "      <td>9:25:34 AM</td>\n",
       "      <td>15</td>\n",
       "      <td>5</td>\n",
       "      <td>...</td>\n",
       "      <td>9:43:06 AM</td>\n",
       "      <td>9</td>\n",
       "      <td>19.2</td>\n",
       "      <td>NaN</td>\n",
       "      <td>-1.281301</td>\n",
       "      <td>36.832396</td>\n",
       "      <td>-1.257147</td>\n",
       "      <td>36.795063</td>\n",
       "      <td>Rider_Id_855</td>\n",
       "      <td>1341</td>\n",
       "    </tr>\n",
       "    <tr>\n",
       "      <th>4</th>\n",
       "      <td>Order_No_27883</td>\n",
       "      <td>User_Id_1737</td>\n",
       "      <td>Bike</td>\n",
       "      <td>1</td>\n",
       "      <td>Personal</td>\n",
       "      <td>13</td>\n",
       "      <td>1</td>\n",
       "      <td>9:55:18 AM</td>\n",
       "      <td>13</td>\n",
       "      <td>1</td>\n",
       "      <td>...</td>\n",
       "      <td>10:05:23 AM</td>\n",
       "      <td>9</td>\n",
       "      <td>15.4</td>\n",
       "      <td>NaN</td>\n",
       "      <td>-1.266597</td>\n",
       "      <td>36.792118</td>\n",
       "      <td>-1.295041</td>\n",
       "      <td>36.809817</td>\n",
       "      <td>Rider_Id_770</td>\n",
       "      <td>1214</td>\n",
       "    </tr>\n",
       "  </tbody>\n",
       "</table>\n",
       "<p>5 rows × 26 columns</p>\n",
       "</div>"
      ],
      "text/plain": [
       "         Order No       User Id Vehicle Type  Platform Type  \\\n",
       "0   Order_No_4211   User_Id_633         Bike              3   \n",
       "1  Order_No_25375  User_Id_2285         Bike              3   \n",
       "2   Order_No_1899   User_Id_265         Bike              3   \n",
       "3   Order_No_9336  User_Id_1402         Bike              3   \n",
       "4  Order_No_27883  User_Id_1737         Bike              1   \n",
       "\n",
       "  Personal or Business  Placement - Day of Month  \\\n",
       "0             Business                         9   \n",
       "1             Personal                        12   \n",
       "2             Business                        30   \n",
       "3             Business                        15   \n",
       "4             Personal                        13   \n",
       "\n",
       "   Placement - Weekday (Mo = 1) Placement - Time  Confirmation - Day of Month  \\\n",
       "0                             5       9:35:46 AM                            9   \n",
       "1                             5      11:16:16 AM                           12   \n",
       "2                             2      12:39:25 PM                           30   \n",
       "3                             5       9:25:34 AM                           15   \n",
       "4                             1       9:55:18 AM                           13   \n",
       "\n",
       "   Confirmation - Weekday (Mo = 1)  ... Pickup - Time  Distance (KM)  \\\n",
       "0                                5  ...   10:27:30 AM              4   \n",
       "1                                5  ...   11:44:09 AM             16   \n",
       "2                                2  ...   12:53:03 PM              3   \n",
       "3                                5  ...    9:43:06 AM              9   \n",
       "4                                1  ...   10:05:23 AM              9   \n",
       "\n",
       "   Temperature Precipitation in millimeters  Pickup Lat  Pickup Long  \\\n",
       "0         20.4                          NaN   -1.317755    36.830370   \n",
       "1         26.4                          NaN   -1.351453    36.899315   \n",
       "2          NaN                          NaN   -1.308284    36.843419   \n",
       "3         19.2                          NaN   -1.281301    36.832396   \n",
       "4         15.4                          NaN   -1.266597    36.792118   \n",
       "\n",
       "  Destination Lat  Destination Long      Rider Id  Time from Pickup to Arrival  \n",
       "0       -1.300406         36.829741  Rider_Id_432                          745  \n",
       "1       -1.295004         36.814358  Rider_Id_856                         1993  \n",
       "2       -1.300921         36.828195  Rider_Id_155                          455  \n",
       "3       -1.257147         36.795063  Rider_Id_855                         1341  \n",
       "4       -1.295041         36.809817  Rider_Id_770                         1214  \n",
       "\n",
       "[5 rows x 26 columns]"
      ]
     },
     "execution_count": 990,
     "metadata": {},
     "output_type": "execute_result"
    }
   ],
   "source": [
    "data_train.head()"
   ]
  },
  {
   "cell_type": "code",
   "execution_count": 991,
   "metadata": {},
   "outputs": [
    {
     "data": {
      "text/html": [
       "<div>\n",
       "<style scoped>\n",
       "    .dataframe tbody tr th:only-of-type {\n",
       "        vertical-align: middle;\n",
       "    }\n",
       "\n",
       "    .dataframe tbody tr th {\n",
       "        vertical-align: top;\n",
       "    }\n",
       "\n",
       "    .dataframe thead th {\n",
       "        text-align: right;\n",
       "    }\n",
       "</style>\n",
       "<table border=\"1\" class=\"dataframe\">\n",
       "  <thead>\n",
       "    <tr style=\"text-align: right;\">\n",
       "      <th></th>\n",
       "      <th>Order No</th>\n",
       "      <th>User Id</th>\n",
       "      <th>Vehicle Type</th>\n",
       "      <th>Platform Type</th>\n",
       "      <th>Personal or Business</th>\n",
       "      <th>Placement - Day of Month</th>\n",
       "      <th>Placement - Weekday (Mo = 1)</th>\n",
       "      <th>Placement - Time</th>\n",
       "      <th>Confirmation - Day of Month</th>\n",
       "      <th>Confirmation - Weekday (Mo = 1)</th>\n",
       "      <th>...</th>\n",
       "      <th>Pickup - Weekday (Mo = 1)</th>\n",
       "      <th>Pickup - Time</th>\n",
       "      <th>Distance (KM)</th>\n",
       "      <th>Temperature</th>\n",
       "      <th>Precipitation in millimeters</th>\n",
       "      <th>Pickup Lat</th>\n",
       "      <th>Pickup Long</th>\n",
       "      <th>Destination Lat</th>\n",
       "      <th>Destination Long</th>\n",
       "      <th>Rider Id</th>\n",
       "    </tr>\n",
       "  </thead>\n",
       "  <tbody>\n",
       "    <tr>\n",
       "      <th>0</th>\n",
       "      <td>Order_No_19248</td>\n",
       "      <td>User_Id_3355</td>\n",
       "      <td>Bike</td>\n",
       "      <td>3</td>\n",
       "      <td>Business</td>\n",
       "      <td>27</td>\n",
       "      <td>3</td>\n",
       "      <td>4:44:10 PM</td>\n",
       "      <td>27</td>\n",
       "      <td>3</td>\n",
       "      <td>...</td>\n",
       "      <td>3</td>\n",
       "      <td>5:06:47 PM</td>\n",
       "      <td>8</td>\n",
       "      <td>NaN</td>\n",
       "      <td>NaN</td>\n",
       "      <td>-1.333275</td>\n",
       "      <td>36.870815</td>\n",
       "      <td>-1.305249</td>\n",
       "      <td>36.822390</td>\n",
       "      <td>Rider_Id_192</td>\n",
       "    </tr>\n",
       "    <tr>\n",
       "      <th>1</th>\n",
       "      <td>Order_No_12736</td>\n",
       "      <td>User_Id_3647</td>\n",
       "      <td>Bike</td>\n",
       "      <td>3</td>\n",
       "      <td>Business</td>\n",
       "      <td>17</td>\n",
       "      <td>5</td>\n",
       "      <td>12:57:35 PM</td>\n",
       "      <td>17</td>\n",
       "      <td>5</td>\n",
       "      <td>...</td>\n",
       "      <td>5</td>\n",
       "      <td>1:25:37 PM</td>\n",
       "      <td>5</td>\n",
       "      <td>NaN</td>\n",
       "      <td>NaN</td>\n",
       "      <td>-1.272639</td>\n",
       "      <td>36.794723</td>\n",
       "      <td>-1.277007</td>\n",
       "      <td>36.823907</td>\n",
       "      <td>Rider_Id_868</td>\n",
       "    </tr>\n",
       "    <tr>\n",
       "      <th>2</th>\n",
       "      <td>Order_No_768</td>\n",
       "      <td>User_Id_2154</td>\n",
       "      <td>Bike</td>\n",
       "      <td>3</td>\n",
       "      <td>Business</td>\n",
       "      <td>27</td>\n",
       "      <td>4</td>\n",
       "      <td>11:08:14 AM</td>\n",
       "      <td>27</td>\n",
       "      <td>4</td>\n",
       "      <td>...</td>\n",
       "      <td>4</td>\n",
       "      <td>11:57:54 AM</td>\n",
       "      <td>5</td>\n",
       "      <td>22.8</td>\n",
       "      <td>NaN</td>\n",
       "      <td>-1.290894</td>\n",
       "      <td>36.822971</td>\n",
       "      <td>-1.276574</td>\n",
       "      <td>36.851365</td>\n",
       "      <td>Rider_Id_26</td>\n",
       "    </tr>\n",
       "    <tr>\n",
       "      <th>3</th>\n",
       "      <td>Order_No_15332</td>\n",
       "      <td>User_Id_2910</td>\n",
       "      <td>Bike</td>\n",
       "      <td>3</td>\n",
       "      <td>Business</td>\n",
       "      <td>17</td>\n",
       "      <td>1</td>\n",
       "      <td>1:51:35 PM</td>\n",
       "      <td>17</td>\n",
       "      <td>1</td>\n",
       "      <td>...</td>\n",
       "      <td>1</td>\n",
       "      <td>2:16:52 PM</td>\n",
       "      <td>5</td>\n",
       "      <td>24.5</td>\n",
       "      <td>NaN</td>\n",
       "      <td>-1.290503</td>\n",
       "      <td>36.809646</td>\n",
       "      <td>-1.303382</td>\n",
       "      <td>36.790658</td>\n",
       "      <td>Rider_Id_685</td>\n",
       "    </tr>\n",
       "    <tr>\n",
       "      <th>4</th>\n",
       "      <td>Order_No_21373</td>\n",
       "      <td>User_Id_1205</td>\n",
       "      <td>Bike</td>\n",
       "      <td>3</td>\n",
       "      <td>Business</td>\n",
       "      <td>11</td>\n",
       "      <td>2</td>\n",
       "      <td>11:30:28 AM</td>\n",
       "      <td>11</td>\n",
       "      <td>2</td>\n",
       "      <td>...</td>\n",
       "      <td>2</td>\n",
       "      <td>11:56:04 AM</td>\n",
       "      <td>6</td>\n",
       "      <td>24.4</td>\n",
       "      <td>NaN</td>\n",
       "      <td>-1.281081</td>\n",
       "      <td>36.814423</td>\n",
       "      <td>-1.266467</td>\n",
       "      <td>36.792161</td>\n",
       "      <td>Rider_Id_858</td>\n",
       "    </tr>\n",
       "  </tbody>\n",
       "</table>\n",
       "<p>5 rows × 25 columns</p>\n",
       "</div>"
      ],
      "text/plain": [
       "         Order No       User Id Vehicle Type  Platform Type  \\\n",
       "0  Order_No_19248  User_Id_3355         Bike              3   \n",
       "1  Order_No_12736  User_Id_3647         Bike              3   \n",
       "2    Order_No_768  User_Id_2154         Bike              3   \n",
       "3  Order_No_15332  User_Id_2910         Bike              3   \n",
       "4  Order_No_21373  User_Id_1205         Bike              3   \n",
       "\n",
       "  Personal or Business  Placement - Day of Month  \\\n",
       "0             Business                        27   \n",
       "1             Business                        17   \n",
       "2             Business                        27   \n",
       "3             Business                        17   \n",
       "4             Business                        11   \n",
       "\n",
       "   Placement - Weekday (Mo = 1) Placement - Time  Confirmation - Day of Month  \\\n",
       "0                             3       4:44:10 PM                           27   \n",
       "1                             5      12:57:35 PM                           17   \n",
       "2                             4      11:08:14 AM                           27   \n",
       "3                             1       1:51:35 PM                           17   \n",
       "4                             2      11:30:28 AM                           11   \n",
       "\n",
       "   Confirmation - Weekday (Mo = 1)  ... Pickup - Weekday (Mo = 1)  \\\n",
       "0                                3  ...                         3   \n",
       "1                                5  ...                         5   \n",
       "2                                4  ...                         4   \n",
       "3                                1  ...                         1   \n",
       "4                                2  ...                         2   \n",
       "\n",
       "   Pickup - Time  Distance (KM) Temperature  Precipitation in millimeters  \\\n",
       "0     5:06:47 PM              8         NaN                           NaN   \n",
       "1     1:25:37 PM              5         NaN                           NaN   \n",
       "2    11:57:54 AM              5        22.8                           NaN   \n",
       "3     2:16:52 PM              5        24.5                           NaN   \n",
       "4    11:56:04 AM              6        24.4                           NaN   \n",
       "\n",
       "   Pickup Lat Pickup Long  Destination Lat  Destination Long      Rider Id  \n",
       "0   -1.333275   36.870815        -1.305249         36.822390  Rider_Id_192  \n",
       "1   -1.272639   36.794723        -1.277007         36.823907  Rider_Id_868  \n",
       "2   -1.290894   36.822971        -1.276574         36.851365   Rider_Id_26  \n",
       "3   -1.290503   36.809646        -1.303382         36.790658  Rider_Id_685  \n",
       "4   -1.281081   36.814423        -1.266467         36.792161  Rider_Id_858  \n",
       "\n",
       "[5 rows x 25 columns]"
      ]
     },
     "execution_count": 991,
     "metadata": {},
     "output_type": "execute_result"
    }
   ],
   "source": [
    "data_test.head()"
   ]
  },
  {
   "cell_type": "markdown",
   "metadata": {},
   "source": [
    "## Aligining the Data\n",
    "### We align both the train and test data set to manipulate it on both data sets all at once"
   ]
  },
  {
   "cell_type": "code",
   "execution_count": 942,
   "metadata": {},
   "outputs": [],
   "source": [
    "data_train = data_train[['Order No', 'User Id', 'Vehicle Type', 'Platform Type',\n",
    "       'Personal or Business', 'Placement - Day of Month',\n",
    "       'Placement - Weekday (Mo = 1)', 'Placement - Time',\n",
    "       'Confirmation - Day of Month', 'Confirmation - Weekday (Mo = 1)',\n",
    "       'Confirmation - Time', 'Arrival at Pickup - Day of Month',\n",
    "       'Arrival at Pickup - Weekday (Mo = 1)', 'Arrival at Pickup - Time',\n",
    "       'Pickup - Day of Month', 'Pickup - Weekday (Mo = 1)', 'Pickup - Time',\n",
    "       'Distance (KM)', 'Temperature', 'Precipitation in millimeters',\n",
    "       'Pickup Lat', 'Pickup Long', 'Destination Lat', 'Destination Long',\n",
    "       'Rider Id', 'Time from Pickup to Arrival']]"
   ]
  },
  {
   "cell_type": "markdown",
   "metadata": {},
   "source": [
    "# Concactenating Data Frames"
   ]
  },
  {
   "cell_type": "code",
   "execution_count": 943,
   "metadata": {},
   "outputs": [],
   "source": [
    "df = pd.concat([data_train, data_test], sort = False)"
   ]
  },
  {
   "cell_type": "code",
   "execution_count": 944,
   "metadata": {},
   "outputs": [
    {
     "data": {
      "text/html": [
       "<div>\n",
       "<style scoped>\n",
       "    .dataframe tbody tr th:only-of-type {\n",
       "        vertical-align: middle;\n",
       "    }\n",
       "\n",
       "    .dataframe tbody tr th {\n",
       "        vertical-align: top;\n",
       "    }\n",
       "\n",
       "    .dataframe thead th {\n",
       "        text-align: right;\n",
       "    }\n",
       "</style>\n",
       "<table border=\"1\" class=\"dataframe\">\n",
       "  <thead>\n",
       "    <tr style=\"text-align: right;\">\n",
       "      <th></th>\n",
       "      <th>Order No</th>\n",
       "      <th>User Id</th>\n",
       "      <th>Vehicle Type</th>\n",
       "      <th>Platform Type</th>\n",
       "      <th>Personal or Business</th>\n",
       "      <th>Placement - Day of Month</th>\n",
       "      <th>Placement - Weekday (Mo = 1)</th>\n",
       "      <th>Placement - Time</th>\n",
       "      <th>Confirmation - Day of Month</th>\n",
       "      <th>Confirmation - Weekday (Mo = 1)</th>\n",
       "      <th>...</th>\n",
       "      <th>Pickup - Time</th>\n",
       "      <th>Distance (KM)</th>\n",
       "      <th>Temperature</th>\n",
       "      <th>Precipitation in millimeters</th>\n",
       "      <th>Pickup Lat</th>\n",
       "      <th>Pickup Long</th>\n",
       "      <th>Destination Lat</th>\n",
       "      <th>Destination Long</th>\n",
       "      <th>Rider Id</th>\n",
       "      <th>Time from Pickup to Arrival</th>\n",
       "    </tr>\n",
       "  </thead>\n",
       "  <tbody>\n",
       "    <tr>\n",
       "      <th>0</th>\n",
       "      <td>Order_No_4211</td>\n",
       "      <td>User_Id_633</td>\n",
       "      <td>Bike</td>\n",
       "      <td>3</td>\n",
       "      <td>Business</td>\n",
       "      <td>9</td>\n",
       "      <td>5</td>\n",
       "      <td>9:35:46 AM</td>\n",
       "      <td>9</td>\n",
       "      <td>5</td>\n",
       "      <td>...</td>\n",
       "      <td>10:27:30 AM</td>\n",
       "      <td>4</td>\n",
       "      <td>20.4</td>\n",
       "      <td>NaN</td>\n",
       "      <td>-1.317755</td>\n",
       "      <td>36.830370</td>\n",
       "      <td>-1.300406</td>\n",
       "      <td>36.829741</td>\n",
       "      <td>Rider_Id_432</td>\n",
       "      <td>745.0</td>\n",
       "    </tr>\n",
       "    <tr>\n",
       "      <th>1</th>\n",
       "      <td>Order_No_25375</td>\n",
       "      <td>User_Id_2285</td>\n",
       "      <td>Bike</td>\n",
       "      <td>3</td>\n",
       "      <td>Personal</td>\n",
       "      <td>12</td>\n",
       "      <td>5</td>\n",
       "      <td>11:16:16 AM</td>\n",
       "      <td>12</td>\n",
       "      <td>5</td>\n",
       "      <td>...</td>\n",
       "      <td>11:44:09 AM</td>\n",
       "      <td>16</td>\n",
       "      <td>26.4</td>\n",
       "      <td>NaN</td>\n",
       "      <td>-1.351453</td>\n",
       "      <td>36.899315</td>\n",
       "      <td>-1.295004</td>\n",
       "      <td>36.814358</td>\n",
       "      <td>Rider_Id_856</td>\n",
       "      <td>1993.0</td>\n",
       "    </tr>\n",
       "    <tr>\n",
       "      <th>2</th>\n",
       "      <td>Order_No_1899</td>\n",
       "      <td>User_Id_265</td>\n",
       "      <td>Bike</td>\n",
       "      <td>3</td>\n",
       "      <td>Business</td>\n",
       "      <td>30</td>\n",
       "      <td>2</td>\n",
       "      <td>12:39:25 PM</td>\n",
       "      <td>30</td>\n",
       "      <td>2</td>\n",
       "      <td>...</td>\n",
       "      <td>12:53:03 PM</td>\n",
       "      <td>3</td>\n",
       "      <td>NaN</td>\n",
       "      <td>NaN</td>\n",
       "      <td>-1.308284</td>\n",
       "      <td>36.843419</td>\n",
       "      <td>-1.300921</td>\n",
       "      <td>36.828195</td>\n",
       "      <td>Rider_Id_155</td>\n",
       "      <td>455.0</td>\n",
       "    </tr>\n",
       "    <tr>\n",
       "      <th>3</th>\n",
       "      <td>Order_No_9336</td>\n",
       "      <td>User_Id_1402</td>\n",
       "      <td>Bike</td>\n",
       "      <td>3</td>\n",
       "      <td>Business</td>\n",
       "      <td>15</td>\n",
       "      <td>5</td>\n",
       "      <td>9:25:34 AM</td>\n",
       "      <td>15</td>\n",
       "      <td>5</td>\n",
       "      <td>...</td>\n",
       "      <td>9:43:06 AM</td>\n",
       "      <td>9</td>\n",
       "      <td>19.2</td>\n",
       "      <td>NaN</td>\n",
       "      <td>-1.281301</td>\n",
       "      <td>36.832396</td>\n",
       "      <td>-1.257147</td>\n",
       "      <td>36.795063</td>\n",
       "      <td>Rider_Id_855</td>\n",
       "      <td>1341.0</td>\n",
       "    </tr>\n",
       "    <tr>\n",
       "      <th>4</th>\n",
       "      <td>Order_No_27883</td>\n",
       "      <td>User_Id_1737</td>\n",
       "      <td>Bike</td>\n",
       "      <td>1</td>\n",
       "      <td>Personal</td>\n",
       "      <td>13</td>\n",
       "      <td>1</td>\n",
       "      <td>9:55:18 AM</td>\n",
       "      <td>13</td>\n",
       "      <td>1</td>\n",
       "      <td>...</td>\n",
       "      <td>10:05:23 AM</td>\n",
       "      <td>9</td>\n",
       "      <td>15.4</td>\n",
       "      <td>NaN</td>\n",
       "      <td>-1.266597</td>\n",
       "      <td>36.792118</td>\n",
       "      <td>-1.295041</td>\n",
       "      <td>36.809817</td>\n",
       "      <td>Rider_Id_770</td>\n",
       "      <td>1214.0</td>\n",
       "    </tr>\n",
       "  </tbody>\n",
       "</table>\n",
       "<p>5 rows × 26 columns</p>\n",
       "</div>"
      ],
      "text/plain": [
       "         Order No       User Id Vehicle Type  Platform Type  \\\n",
       "0   Order_No_4211   User_Id_633         Bike              3   \n",
       "1  Order_No_25375  User_Id_2285         Bike              3   \n",
       "2   Order_No_1899   User_Id_265         Bike              3   \n",
       "3   Order_No_9336  User_Id_1402         Bike              3   \n",
       "4  Order_No_27883  User_Id_1737         Bike              1   \n",
       "\n",
       "  Personal or Business  Placement - Day of Month  \\\n",
       "0             Business                         9   \n",
       "1             Personal                        12   \n",
       "2             Business                        30   \n",
       "3             Business                        15   \n",
       "4             Personal                        13   \n",
       "\n",
       "   Placement - Weekday (Mo = 1) Placement - Time  Confirmation - Day of Month  \\\n",
       "0                             5       9:35:46 AM                            9   \n",
       "1                             5      11:16:16 AM                           12   \n",
       "2                             2      12:39:25 PM                           30   \n",
       "3                             5       9:25:34 AM                           15   \n",
       "4                             1       9:55:18 AM                           13   \n",
       "\n",
       "   Confirmation - Weekday (Mo = 1)  ... Pickup - Time  Distance (KM)  \\\n",
       "0                                5  ...   10:27:30 AM              4   \n",
       "1                                5  ...   11:44:09 AM             16   \n",
       "2                                2  ...   12:53:03 PM              3   \n",
       "3                                5  ...    9:43:06 AM              9   \n",
       "4                                1  ...   10:05:23 AM              9   \n",
       "\n",
       "   Temperature Precipitation in millimeters  Pickup Lat  Pickup Long  \\\n",
       "0         20.4                          NaN   -1.317755    36.830370   \n",
       "1         26.4                          NaN   -1.351453    36.899315   \n",
       "2          NaN                          NaN   -1.308284    36.843419   \n",
       "3         19.2                          NaN   -1.281301    36.832396   \n",
       "4         15.4                          NaN   -1.266597    36.792118   \n",
       "\n",
       "  Destination Lat  Destination Long      Rider Id  Time from Pickup to Arrival  \n",
       "0       -1.300406         36.829741  Rider_Id_432                        745.0  \n",
       "1       -1.295004         36.814358  Rider_Id_856                       1993.0  \n",
       "2       -1.300921         36.828195  Rider_Id_155                        455.0  \n",
       "3       -1.257147         36.795063  Rider_Id_855                       1341.0  \n",
       "4       -1.295041         36.809817  Rider_Id_770                       1214.0  \n",
       "\n",
       "[5 rows x 26 columns]"
      ]
     },
     "execution_count": 944,
     "metadata": {},
     "output_type": "execute_result"
    }
   ],
   "source": [
    "df.head()"
   ]
  },
  {
   "cell_type": "markdown",
   "metadata": {},
   "source": [
    "# Dropping irrelevent columns"
   ]
  },
  {
   "cell_type": "code",
   "execution_count": 945,
   "metadata": {},
   "outputs": [],
   "source": [
    "df = df.drop(['Placement - Weekday (Mo = 1)','Confirmation - Day of Month','Confirmation - Weekday (Mo = 1)',\n",
    "                 'Arrival at Pickup - Day of Month', 'Arrival at Pickup - Weekday (Mo = 1)',\n",
    "              'Pickup - Day of Month','Pickup - Weekday (Mo = 1)'],\n",
    "                 axis = 1)"
   ]
  },
  {
   "cell_type": "markdown",
   "metadata": {},
   "source": [
    "# Join\n",
    "\n",
    "## Joining the aligned DataFrame with Riders DataFrame"
   ]
  },
  {
   "cell_type": "code",
   "execution_count": 992,
   "metadata": {},
   "outputs": [
    {
     "data": {
      "text/html": [
       "<div>\n",
       "<style scoped>\n",
       "    .dataframe tbody tr th:only-of-type {\n",
       "        vertical-align: middle;\n",
       "    }\n",
       "\n",
       "    .dataframe tbody tr th {\n",
       "        vertical-align: top;\n",
       "    }\n",
       "\n",
       "    .dataframe thead th {\n",
       "        text-align: right;\n",
       "    }\n",
       "</style>\n",
       "<table border=\"1\" class=\"dataframe\">\n",
       "  <thead>\n",
       "    <tr style=\"text-align: right;\">\n",
       "      <th></th>\n",
       "      <th>Rider Id</th>\n",
       "      <th>No_Of_Orders</th>\n",
       "      <th>Age</th>\n",
       "      <th>Average_Rating</th>\n",
       "      <th>No_of_Ratings</th>\n",
       "    </tr>\n",
       "  </thead>\n",
       "  <tbody>\n",
       "    <tr>\n",
       "      <th>0</th>\n",
       "      <td>Rider_Id_396</td>\n",
       "      <td>2946</td>\n",
       "      <td>2298</td>\n",
       "      <td>14.0</td>\n",
       "      <td>1159</td>\n",
       "    </tr>\n",
       "    <tr>\n",
       "      <th>1</th>\n",
       "      <td>Rider_Id_479</td>\n",
       "      <td>360</td>\n",
       "      <td>951</td>\n",
       "      <td>13.5</td>\n",
       "      <td>176</td>\n",
       "    </tr>\n",
       "    <tr>\n",
       "      <th>2</th>\n",
       "      <td>Rider_Id_648</td>\n",
       "      <td>1746</td>\n",
       "      <td>821</td>\n",
       "      <td>14.3</td>\n",
       "      <td>466</td>\n",
       "    </tr>\n",
       "    <tr>\n",
       "      <th>3</th>\n",
       "      <td>Rider_Id_753</td>\n",
       "      <td>314</td>\n",
       "      <td>980</td>\n",
       "      <td>12.5</td>\n",
       "      <td>75</td>\n",
       "    </tr>\n",
       "    <tr>\n",
       "      <th>4</th>\n",
       "      <td>Rider_Id_335</td>\n",
       "      <td>536</td>\n",
       "      <td>1113</td>\n",
       "      <td>13.7</td>\n",
       "      <td>156</td>\n",
       "    </tr>\n",
       "    <tr>\n",
       "      <th>...</th>\n",
       "      <td>...</td>\n",
       "      <td>...</td>\n",
       "      <td>...</td>\n",
       "      <td>...</td>\n",
       "      <td>...</td>\n",
       "    </tr>\n",
       "    <tr>\n",
       "      <th>955</th>\n",
       "      <td>Rider_Id_896</td>\n",
       "      <td>152</td>\n",
       "      <td>99</td>\n",
       "      <td>12.4</td>\n",
       "      <td>18</td>\n",
       "    </tr>\n",
       "    <tr>\n",
       "      <th>956</th>\n",
       "      <td>Rider_Id_149</td>\n",
       "      <td>69</td>\n",
       "      <td>101</td>\n",
       "      <td>10.2</td>\n",
       "      <td>10</td>\n",
       "    </tr>\n",
       "    <tr>\n",
       "      <th>957</th>\n",
       "      <td>Rider_Id_270</td>\n",
       "      <td>338</td>\n",
       "      <td>96</td>\n",
       "      <td>14.4</td>\n",
       "      <td>41</td>\n",
       "    </tr>\n",
       "    <tr>\n",
       "      <th>958</th>\n",
       "      <td>Rider_Id_201</td>\n",
       "      <td>159</td>\n",
       "      <td>96</td>\n",
       "      <td>15.0</td>\n",
       "      <td>9</td>\n",
       "    </tr>\n",
       "    <tr>\n",
       "      <th>959</th>\n",
       "      <td>Rider_Id_904</td>\n",
       "      <td>172</td>\n",
       "      <td>108</td>\n",
       "      <td>13.7</td>\n",
       "      <td>18</td>\n",
       "    </tr>\n",
       "  </tbody>\n",
       "</table>\n",
       "<p>960 rows × 5 columns</p>\n",
       "</div>"
      ],
      "text/plain": [
       "         Rider Id  No_Of_Orders   Age  Average_Rating  No_of_Ratings\n",
       "0    Rider_Id_396          2946  2298            14.0           1159\n",
       "1    Rider_Id_479           360   951            13.5            176\n",
       "2    Rider_Id_648          1746   821            14.3            466\n",
       "3    Rider_Id_753           314   980            12.5             75\n",
       "4    Rider_Id_335           536  1113            13.7            156\n",
       "..            ...           ...   ...             ...            ...\n",
       "955  Rider_Id_896           152    99            12.4             18\n",
       "956  Rider_Id_149            69   101            10.2             10\n",
       "957  Rider_Id_270           338    96            14.4             41\n",
       "958  Rider_Id_201           159    96            15.0              9\n",
       "959  Rider_Id_904           172   108            13.7             18\n",
       "\n",
       "[960 rows x 5 columns]"
      ]
     },
     "execution_count": 992,
     "metadata": {},
     "output_type": "execute_result"
    }
   ],
   "source": [
    "riders"
   ]
  },
  {
   "cell_type": "code",
   "execution_count": 946,
   "metadata": {},
   "outputs": [],
   "source": [
    "df_temp = pd.merge(df, riders, how='left', on ='Rider Id')"
   ]
  },
  {
   "cell_type": "code",
   "execution_count": 947,
   "metadata": {},
   "outputs": [
    {
     "data": {
      "text/html": [
       "<div>\n",
       "<style scoped>\n",
       "    .dataframe tbody tr th:only-of-type {\n",
       "        vertical-align: middle;\n",
       "    }\n",
       "\n",
       "    .dataframe tbody tr th {\n",
       "        vertical-align: top;\n",
       "    }\n",
       "\n",
       "    .dataframe thead th {\n",
       "        text-align: right;\n",
       "    }\n",
       "</style>\n",
       "<table border=\"1\" class=\"dataframe\">\n",
       "  <thead>\n",
       "    <tr style=\"text-align: right;\">\n",
       "      <th></th>\n",
       "      <th>Order No</th>\n",
       "      <th>User Id</th>\n",
       "      <th>Vehicle Type</th>\n",
       "      <th>Platform Type</th>\n",
       "      <th>Personal or Business</th>\n",
       "      <th>Placement - Day of Month</th>\n",
       "      <th>Placement - Time</th>\n",
       "      <th>Confirmation - Time</th>\n",
       "      <th>Arrival at Pickup - Time</th>\n",
       "      <th>Pickup - Time</th>\n",
       "      <th>...</th>\n",
       "      <th>Pickup Lat</th>\n",
       "      <th>Pickup Long</th>\n",
       "      <th>Destination Lat</th>\n",
       "      <th>Destination Long</th>\n",
       "      <th>Rider Id</th>\n",
       "      <th>Time from Pickup to Arrival</th>\n",
       "      <th>No_Of_Orders</th>\n",
       "      <th>Age</th>\n",
       "      <th>Average_Rating</th>\n",
       "      <th>No_of_Ratings</th>\n",
       "    </tr>\n",
       "  </thead>\n",
       "  <tbody>\n",
       "    <tr>\n",
       "      <th>0</th>\n",
       "      <td>Order_No_4211</td>\n",
       "      <td>User_Id_633</td>\n",
       "      <td>Bike</td>\n",
       "      <td>3</td>\n",
       "      <td>Business</td>\n",
       "      <td>9</td>\n",
       "      <td>9:35:46 AM</td>\n",
       "      <td>9:40:10 AM</td>\n",
       "      <td>10:04:47 AM</td>\n",
       "      <td>10:27:30 AM</td>\n",
       "      <td>...</td>\n",
       "      <td>-1.317755</td>\n",
       "      <td>36.830370</td>\n",
       "      <td>-1.300406</td>\n",
       "      <td>36.829741</td>\n",
       "      <td>Rider_Id_432</td>\n",
       "      <td>745.0</td>\n",
       "      <td>1637</td>\n",
       "      <td>1309</td>\n",
       "      <td>13.8</td>\n",
       "      <td>549</td>\n",
       "    </tr>\n",
       "    <tr>\n",
       "      <th>1</th>\n",
       "      <td>Order_No_25375</td>\n",
       "      <td>User_Id_2285</td>\n",
       "      <td>Bike</td>\n",
       "      <td>3</td>\n",
       "      <td>Personal</td>\n",
       "      <td>12</td>\n",
       "      <td>11:16:16 AM</td>\n",
       "      <td>11:23:21 AM</td>\n",
       "      <td>11:40:22 AM</td>\n",
       "      <td>11:44:09 AM</td>\n",
       "      <td>...</td>\n",
       "      <td>-1.351453</td>\n",
       "      <td>36.899315</td>\n",
       "      <td>-1.295004</td>\n",
       "      <td>36.814358</td>\n",
       "      <td>Rider_Id_856</td>\n",
       "      <td>1993.0</td>\n",
       "      <td>396</td>\n",
       "      <td>339</td>\n",
       "      <td>13.6</td>\n",
       "      <td>69</td>\n",
       "    </tr>\n",
       "    <tr>\n",
       "      <th>2</th>\n",
       "      <td>Order_No_1899</td>\n",
       "      <td>User_Id_265</td>\n",
       "      <td>Bike</td>\n",
       "      <td>3</td>\n",
       "      <td>Business</td>\n",
       "      <td>30</td>\n",
       "      <td>12:39:25 PM</td>\n",
       "      <td>12:42:44 PM</td>\n",
       "      <td>12:49:34 PM</td>\n",
       "      <td>12:53:03 PM</td>\n",
       "      <td>...</td>\n",
       "      <td>-1.308284</td>\n",
       "      <td>36.843419</td>\n",
       "      <td>-1.300921</td>\n",
       "      <td>36.828195</td>\n",
       "      <td>Rider_Id_155</td>\n",
       "      <td>455.0</td>\n",
       "      <td>1023</td>\n",
       "      <td>242</td>\n",
       "      <td>12.5</td>\n",
       "      <td>114</td>\n",
       "    </tr>\n",
       "    <tr>\n",
       "      <th>3</th>\n",
       "      <td>Order_No_9336</td>\n",
       "      <td>User_Id_1402</td>\n",
       "      <td>Bike</td>\n",
       "      <td>3</td>\n",
       "      <td>Business</td>\n",
       "      <td>15</td>\n",
       "      <td>9:25:34 AM</td>\n",
       "      <td>9:26:05 AM</td>\n",
       "      <td>9:37:56 AM</td>\n",
       "      <td>9:43:06 AM</td>\n",
       "      <td>...</td>\n",
       "      <td>-1.281301</td>\n",
       "      <td>36.832396</td>\n",
       "      <td>-1.257147</td>\n",
       "      <td>36.795063</td>\n",
       "      <td>Rider_Id_855</td>\n",
       "      <td>1341.0</td>\n",
       "      <td>886</td>\n",
       "      <td>283</td>\n",
       "      <td>14.5</td>\n",
       "      <td>113</td>\n",
       "    </tr>\n",
       "    <tr>\n",
       "      <th>4</th>\n",
       "      <td>Order_No_27883</td>\n",
       "      <td>User_Id_1737</td>\n",
       "      <td>Bike</td>\n",
       "      <td>1</td>\n",
       "      <td>Personal</td>\n",
       "      <td>13</td>\n",
       "      <td>9:55:18 AM</td>\n",
       "      <td>9:56:18 AM</td>\n",
       "      <td>10:03:53 AM</td>\n",
       "      <td>10:05:23 AM</td>\n",
       "      <td>...</td>\n",
       "      <td>-1.266597</td>\n",
       "      <td>36.792118</td>\n",
       "      <td>-1.295041</td>\n",
       "      <td>36.809817</td>\n",
       "      <td>Rider_Id_770</td>\n",
       "      <td>1214.0</td>\n",
       "      <td>2311</td>\n",
       "      <td>872</td>\n",
       "      <td>14.1</td>\n",
       "      <td>533</td>\n",
       "    </tr>\n",
       "  </tbody>\n",
       "</table>\n",
       "<p>5 rows × 23 columns</p>\n",
       "</div>"
      ],
      "text/plain": [
       "         Order No       User Id Vehicle Type  Platform Type  \\\n",
       "0   Order_No_4211   User_Id_633         Bike              3   \n",
       "1  Order_No_25375  User_Id_2285         Bike              3   \n",
       "2   Order_No_1899   User_Id_265         Bike              3   \n",
       "3   Order_No_9336  User_Id_1402         Bike              3   \n",
       "4  Order_No_27883  User_Id_1737         Bike              1   \n",
       "\n",
       "  Personal or Business  Placement - Day of Month Placement - Time  \\\n",
       "0             Business                         9       9:35:46 AM   \n",
       "1             Personal                        12      11:16:16 AM   \n",
       "2             Business                        30      12:39:25 PM   \n",
       "3             Business                        15       9:25:34 AM   \n",
       "4             Personal                        13       9:55:18 AM   \n",
       "\n",
       "  Confirmation - Time Arrival at Pickup - Time Pickup - Time  ...  Pickup Lat  \\\n",
       "0          9:40:10 AM              10:04:47 AM   10:27:30 AM  ...   -1.317755   \n",
       "1         11:23:21 AM              11:40:22 AM   11:44:09 AM  ...   -1.351453   \n",
       "2         12:42:44 PM              12:49:34 PM   12:53:03 PM  ...   -1.308284   \n",
       "3          9:26:05 AM               9:37:56 AM    9:43:06 AM  ...   -1.281301   \n",
       "4          9:56:18 AM              10:03:53 AM   10:05:23 AM  ...   -1.266597   \n",
       "\n",
       "   Pickup Long  Destination Lat  Destination Long      Rider Id  \\\n",
       "0    36.830370        -1.300406         36.829741  Rider_Id_432   \n",
       "1    36.899315        -1.295004         36.814358  Rider_Id_856   \n",
       "2    36.843419        -1.300921         36.828195  Rider_Id_155   \n",
       "3    36.832396        -1.257147         36.795063  Rider_Id_855   \n",
       "4    36.792118        -1.295041         36.809817  Rider_Id_770   \n",
       "\n",
       "   Time from Pickup to Arrival  No_Of_Orders   Age  Average_Rating  \\\n",
       "0                        745.0          1637  1309            13.8   \n",
       "1                       1993.0           396   339            13.6   \n",
       "2                        455.0          1023   242            12.5   \n",
       "3                       1341.0           886   283            14.5   \n",
       "4                       1214.0          2311   872            14.1   \n",
       "\n",
       "   No_of_Ratings  \n",
       "0            549  \n",
       "1             69  \n",
       "2            114  \n",
       "3            113  \n",
       "4            533  \n",
       "\n",
       "[5 rows x 23 columns]"
      ]
     },
     "execution_count": 947,
     "metadata": {},
     "output_type": "execute_result"
    }
   ],
   "source": [
    "df_temp.head()"
   ]
  },
  {
   "cell_type": "markdown",
   "metadata": {},
   "source": [
    "## Dropping unique columns"
   ]
  },
  {
   "cell_type": "code",
   "execution_count": 948,
   "metadata": {},
   "outputs": [],
   "source": [
    "df_final = df_temp.drop(['User Id','Order No', 'Vehicle Type', 'Rider Id','Age'], axis = 1)"
   ]
  },
  {
   "cell_type": "code",
   "execution_count": 949,
   "metadata": {},
   "outputs": [
    {
     "data": {
      "text/html": [
       "<div>\n",
       "<style scoped>\n",
       "    .dataframe tbody tr th:only-of-type {\n",
       "        vertical-align: middle;\n",
       "    }\n",
       "\n",
       "    .dataframe tbody tr th {\n",
       "        vertical-align: top;\n",
       "    }\n",
       "\n",
       "    .dataframe thead th {\n",
       "        text-align: right;\n",
       "    }\n",
       "</style>\n",
       "<table border=\"1\" class=\"dataframe\">\n",
       "  <thead>\n",
       "    <tr style=\"text-align: right;\">\n",
       "      <th></th>\n",
       "      <th>Platform Type</th>\n",
       "      <th>Personal or Business</th>\n",
       "      <th>Placement - Day of Month</th>\n",
       "      <th>Placement - Time</th>\n",
       "      <th>Confirmation - Time</th>\n",
       "      <th>Arrival at Pickup - Time</th>\n",
       "      <th>Pickup - Time</th>\n",
       "      <th>Distance (KM)</th>\n",
       "      <th>Temperature</th>\n",
       "      <th>Precipitation in millimeters</th>\n",
       "      <th>Pickup Lat</th>\n",
       "      <th>Pickup Long</th>\n",
       "      <th>Destination Lat</th>\n",
       "      <th>Destination Long</th>\n",
       "      <th>Time from Pickup to Arrival</th>\n",
       "      <th>No_Of_Orders</th>\n",
       "      <th>Average_Rating</th>\n",
       "      <th>No_of_Ratings</th>\n",
       "    </tr>\n",
       "  </thead>\n",
       "  <tbody>\n",
       "    <tr>\n",
       "      <th>0</th>\n",
       "      <td>3</td>\n",
       "      <td>Business</td>\n",
       "      <td>9</td>\n",
       "      <td>9:35:46 AM</td>\n",
       "      <td>9:40:10 AM</td>\n",
       "      <td>10:04:47 AM</td>\n",
       "      <td>10:27:30 AM</td>\n",
       "      <td>4</td>\n",
       "      <td>20.4</td>\n",
       "      <td>NaN</td>\n",
       "      <td>-1.317755</td>\n",
       "      <td>36.830370</td>\n",
       "      <td>-1.300406</td>\n",
       "      <td>36.829741</td>\n",
       "      <td>745.0</td>\n",
       "      <td>1637</td>\n",
       "      <td>13.8</td>\n",
       "      <td>549</td>\n",
       "    </tr>\n",
       "    <tr>\n",
       "      <th>1</th>\n",
       "      <td>3</td>\n",
       "      <td>Personal</td>\n",
       "      <td>12</td>\n",
       "      <td>11:16:16 AM</td>\n",
       "      <td>11:23:21 AM</td>\n",
       "      <td>11:40:22 AM</td>\n",
       "      <td>11:44:09 AM</td>\n",
       "      <td>16</td>\n",
       "      <td>26.4</td>\n",
       "      <td>NaN</td>\n",
       "      <td>-1.351453</td>\n",
       "      <td>36.899315</td>\n",
       "      <td>-1.295004</td>\n",
       "      <td>36.814358</td>\n",
       "      <td>1993.0</td>\n",
       "      <td>396</td>\n",
       "      <td>13.6</td>\n",
       "      <td>69</td>\n",
       "    </tr>\n",
       "    <tr>\n",
       "      <th>2</th>\n",
       "      <td>3</td>\n",
       "      <td>Business</td>\n",
       "      <td>30</td>\n",
       "      <td>12:39:25 PM</td>\n",
       "      <td>12:42:44 PM</td>\n",
       "      <td>12:49:34 PM</td>\n",
       "      <td>12:53:03 PM</td>\n",
       "      <td>3</td>\n",
       "      <td>NaN</td>\n",
       "      <td>NaN</td>\n",
       "      <td>-1.308284</td>\n",
       "      <td>36.843419</td>\n",
       "      <td>-1.300921</td>\n",
       "      <td>36.828195</td>\n",
       "      <td>455.0</td>\n",
       "      <td>1023</td>\n",
       "      <td>12.5</td>\n",
       "      <td>114</td>\n",
       "    </tr>\n",
       "    <tr>\n",
       "      <th>3</th>\n",
       "      <td>3</td>\n",
       "      <td>Business</td>\n",
       "      <td>15</td>\n",
       "      <td>9:25:34 AM</td>\n",
       "      <td>9:26:05 AM</td>\n",
       "      <td>9:37:56 AM</td>\n",
       "      <td>9:43:06 AM</td>\n",
       "      <td>9</td>\n",
       "      <td>19.2</td>\n",
       "      <td>NaN</td>\n",
       "      <td>-1.281301</td>\n",
       "      <td>36.832396</td>\n",
       "      <td>-1.257147</td>\n",
       "      <td>36.795063</td>\n",
       "      <td>1341.0</td>\n",
       "      <td>886</td>\n",
       "      <td>14.5</td>\n",
       "      <td>113</td>\n",
       "    </tr>\n",
       "    <tr>\n",
       "      <th>4</th>\n",
       "      <td>1</td>\n",
       "      <td>Personal</td>\n",
       "      <td>13</td>\n",
       "      <td>9:55:18 AM</td>\n",
       "      <td>9:56:18 AM</td>\n",
       "      <td>10:03:53 AM</td>\n",
       "      <td>10:05:23 AM</td>\n",
       "      <td>9</td>\n",
       "      <td>15.4</td>\n",
       "      <td>NaN</td>\n",
       "      <td>-1.266597</td>\n",
       "      <td>36.792118</td>\n",
       "      <td>-1.295041</td>\n",
       "      <td>36.809817</td>\n",
       "      <td>1214.0</td>\n",
       "      <td>2311</td>\n",
       "      <td>14.1</td>\n",
       "      <td>533</td>\n",
       "    </tr>\n",
       "  </tbody>\n",
       "</table>\n",
       "</div>"
      ],
      "text/plain": [
       "   Platform Type Personal or Business  Placement - Day of Month  \\\n",
       "0              3             Business                         9   \n",
       "1              3             Personal                        12   \n",
       "2              3             Business                        30   \n",
       "3              3             Business                        15   \n",
       "4              1             Personal                        13   \n",
       "\n",
       "  Placement - Time Confirmation - Time Arrival at Pickup - Time Pickup - Time  \\\n",
       "0       9:35:46 AM          9:40:10 AM              10:04:47 AM   10:27:30 AM   \n",
       "1      11:16:16 AM         11:23:21 AM              11:40:22 AM   11:44:09 AM   \n",
       "2      12:39:25 PM         12:42:44 PM              12:49:34 PM   12:53:03 PM   \n",
       "3       9:25:34 AM          9:26:05 AM               9:37:56 AM    9:43:06 AM   \n",
       "4       9:55:18 AM          9:56:18 AM              10:03:53 AM   10:05:23 AM   \n",
       "\n",
       "   Distance (KM)  Temperature  Precipitation in millimeters  Pickup Lat  \\\n",
       "0              4         20.4                           NaN   -1.317755   \n",
       "1             16         26.4                           NaN   -1.351453   \n",
       "2              3          NaN                           NaN   -1.308284   \n",
       "3              9         19.2                           NaN   -1.281301   \n",
       "4              9         15.4                           NaN   -1.266597   \n",
       "\n",
       "   Pickup Long  Destination Lat  Destination Long  \\\n",
       "0    36.830370        -1.300406         36.829741   \n",
       "1    36.899315        -1.295004         36.814358   \n",
       "2    36.843419        -1.300921         36.828195   \n",
       "3    36.832396        -1.257147         36.795063   \n",
       "4    36.792118        -1.295041         36.809817   \n",
       "\n",
       "   Time from Pickup to Arrival  No_Of_Orders  Average_Rating  No_of_Ratings  \n",
       "0                        745.0          1637            13.8            549  \n",
       "1                       1993.0           396            13.6             69  \n",
       "2                        455.0          1023            12.5            114  \n",
       "3                       1341.0           886            14.5            113  \n",
       "4                       1214.0          2311            14.1            533  "
      ]
     },
     "execution_count": 949,
     "metadata": {},
     "output_type": "execute_result"
    }
   ],
   "source": [
    "df_final.head()"
   ]
  },
  {
   "cell_type": "markdown",
   "metadata": {},
   "source": [
    "## To Numeric\n",
    "\n",
    "### In this section I convert the time columns to numeric data types, this is due to the fact that we want our DataFrame to only consist of integers.\n",
    "### I first change them from object data type to data-time data type, and then from date-time data type to integer data type. \n",
    "\n",
    "### This will also enable the model to try and find possible correlations between the other features and the time features."
   ]
  },
  {
   "cell_type": "code",
   "execution_count": 950,
   "metadata": {},
   "outputs": [],
   "source": [
    "#Placement - Time\n",
    "\n",
    "df_final['Placement - Time'] = pd.to_datetime(df_final['Placement - Time'])\n",
    "df_final['Placement - Time'] = pd.to_numeric(df_final['Placement - Time'])\n",
    "\n",
    "#Confirmation  - Time\n",
    "\n",
    "df_final['Confirmation - Time'] = pd.to_datetime(df_final['Confirmation - Time'])\n",
    "df_final['Confirmation - Time'] = pd.to_numeric(df_final['Confirmation - Time'])\n",
    "\n",
    "#Arrival at Pick up - Time\n",
    "\n",
    "df_final['Arrival at Pickup - Time'] = pd.to_datetime(df_final['Arrival at Pickup - Time'])\n",
    "df_final['Arrival at Pickup - Time'] = pd.to_numeric(df_final['Arrival at Pickup - Time'])\n",
    "\n",
    "#Pick up - Time\n",
    "\n",
    "df_final['Pickup - Time'] = pd.to_datetime(df_final['Pickup - Time'])\n",
    "df_final['Pickup - Time'] = pd.to_numeric(df_final['Pickup - Time'])\n"
   ]
  },
  {
   "cell_type": "markdown",
   "metadata": {},
   "source": [
    "## Removing uneccessary/not needed columns\n",
    "\n",
    "### The 'Placement - time' column is being removed due it not being needed. Reason for that is because it is the time the order was placed, it is not much useful as we should only be working with features concerning the riders."
   ]
  },
  {
   "cell_type": "code",
   "execution_count": 951,
   "metadata": {},
   "outputs": [],
   "source": [
    "df_final = df_final.drop(['Placement - Time'], axis = 1)"
   ]
  },
  {
   "cell_type": "code",
   "execution_count": 952,
   "metadata": {},
   "outputs": [
    {
     "data": {
      "text/html": [
       "<div>\n",
       "<style scoped>\n",
       "    .dataframe tbody tr th:only-of-type {\n",
       "        vertical-align: middle;\n",
       "    }\n",
       "\n",
       "    .dataframe tbody tr th {\n",
       "        vertical-align: top;\n",
       "    }\n",
       "\n",
       "    .dataframe thead th {\n",
       "        text-align: right;\n",
       "    }\n",
       "</style>\n",
       "<table border=\"1\" class=\"dataframe\">\n",
       "  <thead>\n",
       "    <tr style=\"text-align: right;\">\n",
       "      <th></th>\n",
       "      <th>Platform Type</th>\n",
       "      <th>Personal or Business</th>\n",
       "      <th>Placement - Day of Month</th>\n",
       "      <th>Confirmation - Time</th>\n",
       "      <th>Arrival at Pickup - Time</th>\n",
       "      <th>Pickup - Time</th>\n",
       "      <th>Distance (KM)</th>\n",
       "      <th>Temperature</th>\n",
       "      <th>Precipitation in millimeters</th>\n",
       "      <th>Pickup Lat</th>\n",
       "      <th>Pickup Long</th>\n",
       "      <th>Destination Lat</th>\n",
       "      <th>Destination Long</th>\n",
       "      <th>Time from Pickup to Arrival</th>\n",
       "      <th>No_Of_Orders</th>\n",
       "      <th>Average_Rating</th>\n",
       "      <th>No_of_Ratings</th>\n",
       "    </tr>\n",
       "  </thead>\n",
       "  <tbody>\n",
       "    <tr>\n",
       "      <th>0</th>\n",
       "      <td>3</td>\n",
       "      <td>Business</td>\n",
       "      <td>9</td>\n",
       "      <td>1599471610000000000</td>\n",
       "      <td>1599473087000000000</td>\n",
       "      <td>1599474450000000000</td>\n",
       "      <td>4</td>\n",
       "      <td>20.4</td>\n",
       "      <td>NaN</td>\n",
       "      <td>-1.317755</td>\n",
       "      <td>36.830370</td>\n",
       "      <td>-1.300406</td>\n",
       "      <td>36.829741</td>\n",
       "      <td>745.0</td>\n",
       "      <td>1637</td>\n",
       "      <td>13.8</td>\n",
       "      <td>549</td>\n",
       "    </tr>\n",
       "    <tr>\n",
       "      <th>1</th>\n",
       "      <td>3</td>\n",
       "      <td>Personal</td>\n",
       "      <td>12</td>\n",
       "      <td>1599477801000000000</td>\n",
       "      <td>1599478822000000000</td>\n",
       "      <td>1599479049000000000</td>\n",
       "      <td>16</td>\n",
       "      <td>26.4</td>\n",
       "      <td>NaN</td>\n",
       "      <td>-1.351453</td>\n",
       "      <td>36.899315</td>\n",
       "      <td>-1.295004</td>\n",
       "      <td>36.814358</td>\n",
       "      <td>1993.0</td>\n",
       "      <td>396</td>\n",
       "      <td>13.6</td>\n",
       "      <td>69</td>\n",
       "    </tr>\n",
       "    <tr>\n",
       "      <th>2</th>\n",
       "      <td>3</td>\n",
       "      <td>Business</td>\n",
       "      <td>30</td>\n",
       "      <td>1599482564000000000</td>\n",
       "      <td>1599482974000000000</td>\n",
       "      <td>1599483183000000000</td>\n",
       "      <td>3</td>\n",
       "      <td>NaN</td>\n",
       "      <td>NaN</td>\n",
       "      <td>-1.308284</td>\n",
       "      <td>36.843419</td>\n",
       "      <td>-1.300921</td>\n",
       "      <td>36.828195</td>\n",
       "      <td>455.0</td>\n",
       "      <td>1023</td>\n",
       "      <td>12.5</td>\n",
       "      <td>114</td>\n",
       "    </tr>\n",
       "    <tr>\n",
       "      <th>3</th>\n",
       "      <td>3</td>\n",
       "      <td>Business</td>\n",
       "      <td>15</td>\n",
       "      <td>1599470765000000000</td>\n",
       "      <td>1599471476000000000</td>\n",
       "      <td>1599471786000000000</td>\n",
       "      <td>9</td>\n",
       "      <td>19.2</td>\n",
       "      <td>NaN</td>\n",
       "      <td>-1.281301</td>\n",
       "      <td>36.832396</td>\n",
       "      <td>-1.257147</td>\n",
       "      <td>36.795063</td>\n",
       "      <td>1341.0</td>\n",
       "      <td>886</td>\n",
       "      <td>14.5</td>\n",
       "      <td>113</td>\n",
       "    </tr>\n",
       "    <tr>\n",
       "      <th>4</th>\n",
       "      <td>1</td>\n",
       "      <td>Personal</td>\n",
       "      <td>13</td>\n",
       "      <td>1599472578000000000</td>\n",
       "      <td>1599473033000000000</td>\n",
       "      <td>1599473123000000000</td>\n",
       "      <td>9</td>\n",
       "      <td>15.4</td>\n",
       "      <td>NaN</td>\n",
       "      <td>-1.266597</td>\n",
       "      <td>36.792118</td>\n",
       "      <td>-1.295041</td>\n",
       "      <td>36.809817</td>\n",
       "      <td>1214.0</td>\n",
       "      <td>2311</td>\n",
       "      <td>14.1</td>\n",
       "      <td>533</td>\n",
       "    </tr>\n",
       "  </tbody>\n",
       "</table>\n",
       "</div>"
      ],
      "text/plain": [
       "   Platform Type Personal or Business  Placement - Day of Month  \\\n",
       "0              3             Business                         9   \n",
       "1              3             Personal                        12   \n",
       "2              3             Business                        30   \n",
       "3              3             Business                        15   \n",
       "4              1             Personal                        13   \n",
       "\n",
       "   Confirmation - Time  Arrival at Pickup - Time        Pickup - Time  \\\n",
       "0  1599471610000000000       1599473087000000000  1599474450000000000   \n",
       "1  1599477801000000000       1599478822000000000  1599479049000000000   \n",
       "2  1599482564000000000       1599482974000000000  1599483183000000000   \n",
       "3  1599470765000000000       1599471476000000000  1599471786000000000   \n",
       "4  1599472578000000000       1599473033000000000  1599473123000000000   \n",
       "\n",
       "   Distance (KM)  Temperature  Precipitation in millimeters  Pickup Lat  \\\n",
       "0              4         20.4                           NaN   -1.317755   \n",
       "1             16         26.4                           NaN   -1.351453   \n",
       "2              3          NaN                           NaN   -1.308284   \n",
       "3              9         19.2                           NaN   -1.281301   \n",
       "4              9         15.4                           NaN   -1.266597   \n",
       "\n",
       "   Pickup Long  Destination Lat  Destination Long  \\\n",
       "0    36.830370        -1.300406         36.829741   \n",
       "1    36.899315        -1.295004         36.814358   \n",
       "2    36.843419        -1.300921         36.828195   \n",
       "3    36.832396        -1.257147         36.795063   \n",
       "4    36.792118        -1.295041         36.809817   \n",
       "\n",
       "   Time from Pickup to Arrival  No_Of_Orders  Average_Rating  No_of_Ratings  \n",
       "0                        745.0          1637            13.8            549  \n",
       "1                       1993.0           396            13.6             69  \n",
       "2                        455.0          1023            12.5            114  \n",
       "3                       1341.0           886            14.5            113  \n",
       "4                       1214.0          2311            14.1            533  "
      ]
     },
     "execution_count": 952,
     "metadata": {},
     "output_type": "execute_result"
    }
   ],
   "source": [
    "df_final.head()"
   ]
  },
  {
   "cell_type": "markdown",
   "metadata": {},
   "source": [
    "## Encoding categorical data \n",
    "\n"
   ]
  },
  {
   "cell_type": "code",
   "execution_count": 953,
   "metadata": {},
   "outputs": [
    {
     "data": {
      "text/plain": [
       "Platform Type                     int64\n",
       "Personal or Business             object\n",
       "Placement - Day of Month          int64\n",
       "Confirmation - Time               int64\n",
       "Arrival at Pickup - Time          int64\n",
       "Pickup - Time                     int64\n",
       "Distance (KM)                     int64\n",
       "Temperature                     float64\n",
       "Precipitation in millimeters    float64\n",
       "Pickup Lat                      float64\n",
       "Pickup Long                     float64\n",
       "Destination Lat                 float64\n",
       "Destination Long                float64\n",
       "Time from Pickup to Arrival     float64\n",
       "No_Of_Orders                      int64\n",
       "Average_Rating                  float64\n",
       "No_of_Ratings                     int64\n",
       "dtype: object"
      ]
     },
     "execution_count": 953,
     "metadata": {},
     "output_type": "execute_result"
    }
   ],
   "source": [
    "df_final.dtypes"
   ]
  },
  {
   "cell_type": "code",
   "execution_count": 954,
   "metadata": {},
   "outputs": [
    {
     "data": {
      "text/html": [
       "<div>\n",
       "<style scoped>\n",
       "    .dataframe tbody tr th:only-of-type {\n",
       "        vertical-align: middle;\n",
       "    }\n",
       "\n",
       "    .dataframe tbody tr th {\n",
       "        vertical-align: top;\n",
       "    }\n",
       "\n",
       "    .dataframe thead th {\n",
       "        text-align: right;\n",
       "    }\n",
       "</style>\n",
       "<table border=\"1\" class=\"dataframe\">\n",
       "  <thead>\n",
       "    <tr style=\"text-align: right;\">\n",
       "      <th></th>\n",
       "      <th>Platform Type</th>\n",
       "      <th>Placement - Day of Month</th>\n",
       "      <th>Confirmation - Time</th>\n",
       "      <th>Arrival at Pickup - Time</th>\n",
       "      <th>Pickup - Time</th>\n",
       "      <th>Distance (KM)</th>\n",
       "      <th>Temperature</th>\n",
       "      <th>Precipitation in millimeters</th>\n",
       "      <th>Pickup Lat</th>\n",
       "      <th>Pickup Long</th>\n",
       "      <th>Destination Lat</th>\n",
       "      <th>Destination Long</th>\n",
       "      <th>Time from Pickup to Arrival</th>\n",
       "      <th>No_Of_Orders</th>\n",
       "      <th>Average_Rating</th>\n",
       "      <th>No_of_Ratings</th>\n",
       "      <th>Personal or Business_Business</th>\n",
       "      <th>Personal or Business_Personal</th>\n",
       "    </tr>\n",
       "  </thead>\n",
       "  <tbody>\n",
       "    <tr>\n",
       "      <th>0</th>\n",
       "      <td>3</td>\n",
       "      <td>9</td>\n",
       "      <td>1599471610000000000</td>\n",
       "      <td>1599473087000000000</td>\n",
       "      <td>1599474450000000000</td>\n",
       "      <td>4</td>\n",
       "      <td>20.4</td>\n",
       "      <td>NaN</td>\n",
       "      <td>-1.317755</td>\n",
       "      <td>36.830370</td>\n",
       "      <td>-1.300406</td>\n",
       "      <td>36.829741</td>\n",
       "      <td>745.0</td>\n",
       "      <td>1637</td>\n",
       "      <td>13.8</td>\n",
       "      <td>549</td>\n",
       "      <td>1</td>\n",
       "      <td>0</td>\n",
       "    </tr>\n",
       "    <tr>\n",
       "      <th>1</th>\n",
       "      <td>3</td>\n",
       "      <td>12</td>\n",
       "      <td>1599477801000000000</td>\n",
       "      <td>1599478822000000000</td>\n",
       "      <td>1599479049000000000</td>\n",
       "      <td>16</td>\n",
       "      <td>26.4</td>\n",
       "      <td>NaN</td>\n",
       "      <td>-1.351453</td>\n",
       "      <td>36.899315</td>\n",
       "      <td>-1.295004</td>\n",
       "      <td>36.814358</td>\n",
       "      <td>1993.0</td>\n",
       "      <td>396</td>\n",
       "      <td>13.6</td>\n",
       "      <td>69</td>\n",
       "      <td>0</td>\n",
       "      <td>1</td>\n",
       "    </tr>\n",
       "    <tr>\n",
       "      <th>2</th>\n",
       "      <td>3</td>\n",
       "      <td>30</td>\n",
       "      <td>1599482564000000000</td>\n",
       "      <td>1599482974000000000</td>\n",
       "      <td>1599483183000000000</td>\n",
       "      <td>3</td>\n",
       "      <td>NaN</td>\n",
       "      <td>NaN</td>\n",
       "      <td>-1.308284</td>\n",
       "      <td>36.843419</td>\n",
       "      <td>-1.300921</td>\n",
       "      <td>36.828195</td>\n",
       "      <td>455.0</td>\n",
       "      <td>1023</td>\n",
       "      <td>12.5</td>\n",
       "      <td>114</td>\n",
       "      <td>1</td>\n",
       "      <td>0</td>\n",
       "    </tr>\n",
       "    <tr>\n",
       "      <th>3</th>\n",
       "      <td>3</td>\n",
       "      <td>15</td>\n",
       "      <td>1599470765000000000</td>\n",
       "      <td>1599471476000000000</td>\n",
       "      <td>1599471786000000000</td>\n",
       "      <td>9</td>\n",
       "      <td>19.2</td>\n",
       "      <td>NaN</td>\n",
       "      <td>-1.281301</td>\n",
       "      <td>36.832396</td>\n",
       "      <td>-1.257147</td>\n",
       "      <td>36.795063</td>\n",
       "      <td>1341.0</td>\n",
       "      <td>886</td>\n",
       "      <td>14.5</td>\n",
       "      <td>113</td>\n",
       "      <td>1</td>\n",
       "      <td>0</td>\n",
       "    </tr>\n",
       "    <tr>\n",
       "      <th>4</th>\n",
       "      <td>1</td>\n",
       "      <td>13</td>\n",
       "      <td>1599472578000000000</td>\n",
       "      <td>1599473033000000000</td>\n",
       "      <td>1599473123000000000</td>\n",
       "      <td>9</td>\n",
       "      <td>15.4</td>\n",
       "      <td>NaN</td>\n",
       "      <td>-1.266597</td>\n",
       "      <td>36.792118</td>\n",
       "      <td>-1.295041</td>\n",
       "      <td>36.809817</td>\n",
       "      <td>1214.0</td>\n",
       "      <td>2311</td>\n",
       "      <td>14.1</td>\n",
       "      <td>533</td>\n",
       "      <td>0</td>\n",
       "      <td>1</td>\n",
       "    </tr>\n",
       "    <tr>\n",
       "      <th>...</th>\n",
       "      <td>...</td>\n",
       "      <td>...</td>\n",
       "      <td>...</td>\n",
       "      <td>...</td>\n",
       "      <td>...</td>\n",
       "      <td>...</td>\n",
       "      <td>...</td>\n",
       "      <td>...</td>\n",
       "      <td>...</td>\n",
       "      <td>...</td>\n",
       "      <td>...</td>\n",
       "      <td>...</td>\n",
       "      <td>...</td>\n",
       "      <td>...</td>\n",
       "      <td>...</td>\n",
       "      <td>...</td>\n",
       "      <td>...</td>\n",
       "      <td>...</td>\n",
       "    </tr>\n",
       "    <tr>\n",
       "      <th>28264</th>\n",
       "      <td>3</td>\n",
       "      <td>7</td>\n",
       "      <td>1599475024000000000</td>\n",
       "      <td>1599475213000000000</td>\n",
       "      <td>1599475698000000000</td>\n",
       "      <td>5</td>\n",
       "      <td>24.8</td>\n",
       "      <td>NaN</td>\n",
       "      <td>-1.258414</td>\n",
       "      <td>36.804800</td>\n",
       "      <td>-1.288780</td>\n",
       "      <td>36.816831</td>\n",
       "      <td>NaN</td>\n",
       "      <td>1018</td>\n",
       "      <td>13.1</td>\n",
       "      <td>87</td>\n",
       "      <td>1</td>\n",
       "      <td>0</td>\n",
       "    </tr>\n",
       "    <tr>\n",
       "      <th>28265</th>\n",
       "      <td>3</td>\n",
       "      <td>10</td>\n",
       "      <td>1599490857000000000</td>\n",
       "      <td>1599491917000000000</td>\n",
       "      <td>1599492104000000000</td>\n",
       "      <td>22</td>\n",
       "      <td>30.7</td>\n",
       "      <td>NaN</td>\n",
       "      <td>-1.276141</td>\n",
       "      <td>36.771084</td>\n",
       "      <td>-1.316098</td>\n",
       "      <td>36.913164</td>\n",
       "      <td>NaN</td>\n",
       "      <td>6728</td>\n",
       "      <td>13.9</td>\n",
       "      <td>2027</td>\n",
       "      <td>1</td>\n",
       "      <td>0</td>\n",
       "    </tr>\n",
       "    <tr>\n",
       "      <th>28266</th>\n",
       "      <td>3</td>\n",
       "      <td>5</td>\n",
       "      <td>1599489936000000000</td>\n",
       "      <td>1599490815000000000</td>\n",
       "      <td>1599491272000000000</td>\n",
       "      <td>10</td>\n",
       "      <td>25.1</td>\n",
       "      <td>NaN</td>\n",
       "      <td>-1.301446</td>\n",
       "      <td>36.766138</td>\n",
       "      <td>-1.264960</td>\n",
       "      <td>36.798178</td>\n",
       "      <td>NaN</td>\n",
       "      <td>1601</td>\n",
       "      <td>13.7</td>\n",
       "      <td>441</td>\n",
       "      <td>1</td>\n",
       "      <td>0</td>\n",
       "    </tr>\n",
       "    <tr>\n",
       "      <th>28267</th>\n",
       "      <td>3</td>\n",
       "      <td>29</td>\n",
       "      <td>1599491985000000000</td>\n",
       "      <td>1599493247000000000</td>\n",
       "      <td>1599493595000000000</td>\n",
       "      <td>18</td>\n",
       "      <td>23.6</td>\n",
       "      <td>NaN</td>\n",
       "      <td>-1.248404</td>\n",
       "      <td>36.678276</td>\n",
       "      <td>-1.272027</td>\n",
       "      <td>36.817411</td>\n",
       "      <td>NaN</td>\n",
       "      <td>225</td>\n",
       "      <td>14.1</td>\n",
       "      <td>66</td>\n",
       "      <td>0</td>\n",
       "      <td>1</td>\n",
       "    </tr>\n",
       "    <tr>\n",
       "      <th>28268</th>\n",
       "      <td>3</td>\n",
       "      <td>4</td>\n",
       "      <td>1599493420000000000</td>\n",
       "      <td>1599494285000000000</td>\n",
       "      <td>1599494683000000000</td>\n",
       "      <td>8</td>\n",
       "      <td>22.3</td>\n",
       "      <td>NaN</td>\n",
       "      <td>-1.255189</td>\n",
       "      <td>36.782203</td>\n",
       "      <td>-1.300406</td>\n",
       "      <td>36.829741</td>\n",
       "      <td>NaN</td>\n",
       "      <td>847</td>\n",
       "      <td>14.0</td>\n",
       "      <td>108</td>\n",
       "      <td>1</td>\n",
       "      <td>0</td>\n",
       "    </tr>\n",
       "  </tbody>\n",
       "</table>\n",
       "<p>28269 rows × 18 columns</p>\n",
       "</div>"
      ],
      "text/plain": [
       "       Platform Type  Placement - Day of Month  Confirmation - Time  \\\n",
       "0                  3                         9  1599471610000000000   \n",
       "1                  3                        12  1599477801000000000   \n",
       "2                  3                        30  1599482564000000000   \n",
       "3                  3                        15  1599470765000000000   \n",
       "4                  1                        13  1599472578000000000   \n",
       "...              ...                       ...                  ...   \n",
       "28264              3                         7  1599475024000000000   \n",
       "28265              3                        10  1599490857000000000   \n",
       "28266              3                         5  1599489936000000000   \n",
       "28267              3                        29  1599491985000000000   \n",
       "28268              3                         4  1599493420000000000   \n",
       "\n",
       "       Arrival at Pickup - Time        Pickup - Time  Distance (KM)  \\\n",
       "0           1599473087000000000  1599474450000000000              4   \n",
       "1           1599478822000000000  1599479049000000000             16   \n",
       "2           1599482974000000000  1599483183000000000              3   \n",
       "3           1599471476000000000  1599471786000000000              9   \n",
       "4           1599473033000000000  1599473123000000000              9   \n",
       "...                         ...                  ...            ...   \n",
       "28264       1599475213000000000  1599475698000000000              5   \n",
       "28265       1599491917000000000  1599492104000000000             22   \n",
       "28266       1599490815000000000  1599491272000000000             10   \n",
       "28267       1599493247000000000  1599493595000000000             18   \n",
       "28268       1599494285000000000  1599494683000000000              8   \n",
       "\n",
       "       Temperature  Precipitation in millimeters  Pickup Lat  Pickup Long  \\\n",
       "0             20.4                           NaN   -1.317755    36.830370   \n",
       "1             26.4                           NaN   -1.351453    36.899315   \n",
       "2              NaN                           NaN   -1.308284    36.843419   \n",
       "3             19.2                           NaN   -1.281301    36.832396   \n",
       "4             15.4                           NaN   -1.266597    36.792118   \n",
       "...            ...                           ...         ...          ...   \n",
       "28264         24.8                           NaN   -1.258414    36.804800   \n",
       "28265         30.7                           NaN   -1.276141    36.771084   \n",
       "28266         25.1                           NaN   -1.301446    36.766138   \n",
       "28267         23.6                           NaN   -1.248404    36.678276   \n",
       "28268         22.3                           NaN   -1.255189    36.782203   \n",
       "\n",
       "       Destination Lat  Destination Long  Time from Pickup to Arrival  \\\n",
       "0            -1.300406         36.829741                        745.0   \n",
       "1            -1.295004         36.814358                       1993.0   \n",
       "2            -1.300921         36.828195                        455.0   \n",
       "3            -1.257147         36.795063                       1341.0   \n",
       "4            -1.295041         36.809817                       1214.0   \n",
       "...                ...               ...                          ...   \n",
       "28264        -1.288780         36.816831                          NaN   \n",
       "28265        -1.316098         36.913164                          NaN   \n",
       "28266        -1.264960         36.798178                          NaN   \n",
       "28267        -1.272027         36.817411                          NaN   \n",
       "28268        -1.300406         36.829741                          NaN   \n",
       "\n",
       "       No_Of_Orders  Average_Rating  No_of_Ratings  \\\n",
       "0              1637            13.8            549   \n",
       "1               396            13.6             69   \n",
       "2              1023            12.5            114   \n",
       "3               886            14.5            113   \n",
       "4              2311            14.1            533   \n",
       "...             ...             ...            ...   \n",
       "28264          1018            13.1             87   \n",
       "28265          6728            13.9           2027   \n",
       "28266          1601            13.7            441   \n",
       "28267           225            14.1             66   \n",
       "28268           847            14.0            108   \n",
       "\n",
       "       Personal or Business_Business  Personal or Business_Personal  \n",
       "0                                  1                              0  \n",
       "1                                  0                              1  \n",
       "2                                  1                              0  \n",
       "3                                  1                              0  \n",
       "4                                  0                              1  \n",
       "...                              ...                            ...  \n",
       "28264                              1                              0  \n",
       "28265                              1                              0  \n",
       "28266                              1                              0  \n",
       "28267                              0                              1  \n",
       "28268                              1                              0  \n",
       "\n",
       "[28269 rows x 18 columns]"
      ]
     },
     "execution_count": 954,
     "metadata": {},
     "output_type": "execute_result"
    }
   ],
   "source": [
    "df_final = pd.get_dummies(df_final)\n",
    "df_final"
   ]
  },
  {
   "cell_type": "code",
   "execution_count": null,
   "metadata": {},
   "outputs": [],
   "source": []
  },
  {
   "cell_type": "markdown",
   "metadata": {},
   "source": [
    "## Seperating the Data\n",
    "\n",
    "### In this step I seperate the data to get them to their original form of the Train data set and Test data set, I also split the data to create necessary x and y variables for validation of the train set."
   ]
  },
  {
   "cell_type": "code",
   "execution_count": 955,
   "metadata": {},
   "outputs": [],
   "source": [
    "# validation: x and y \n",
    "x = df_final[:len(data_train)].drop('Time from Pickup to Arrival', axis = 1).values\n",
    "y = df_final[:len(data_train)][['Time from Pickup to Arrival']].values\n",
    "\n",
    "# train set and test set. z = 'zindi'\n",
    "x_train_z = df_final[:len(data_train)].drop('Time from Pickup to Arrival', axis = 1).values \n",
    "x_test_z = df_final[len(data_train):].drop('Time from Pickup to Arrival', axis = 1).values"
   ]
  },
  {
   "cell_type": "markdown",
   "metadata": {},
   "source": [
    "## Taking care of null values\n",
    "\n",
    "### I used the method of simple imputer to fill null values with the 'mean' of the column they appear in."
   ]
  },
  {
   "cell_type": "code",
   "execution_count": 956,
   "metadata": {},
   "outputs": [],
   "source": [
    "imputer = SimpleImputer(missing_values=np.nan, strategy='mean')"
   ]
  },
  {
   "cell_type": "code",
   "execution_count": 957,
   "metadata": {},
   "outputs": [],
   "source": [
    "#imputing x\n",
    "imputer.fit(x)\n",
    "x = imputer.transform(x)"
   ]
  },
  {
   "cell_type": "code",
   "execution_count": 958,
   "metadata": {},
   "outputs": [],
   "source": [
    "#imputing y\n",
    "imputer.fit(y)\n",
    "y = imputer.transform(y)"
   ]
  },
  {
   "cell_type": "code",
   "execution_count": 959,
   "metadata": {},
   "outputs": [],
   "source": [
    "#imputing x_train\n",
    "imputer.fit(x_train_z)\n",
    "x_train_z = imputer.transform(x_train_z)"
   ]
  },
  {
   "cell_type": "code",
   "execution_count": 960,
   "metadata": {},
   "outputs": [],
   "source": [
    "#imputing x_test\n",
    "imputer.fit(x_test_z)\n",
    "x_test_z = imputer.transform(x_test_z)\n"
   ]
  },
  {
   "cell_type": "markdown",
   "metadata": {},
   "source": [
    "## Train, test split of the Train Data set \n",
    "#### Note: Validation on the data is performed"
   ]
  },
  {
   "cell_type": "code",
   "execution_count": 961,
   "metadata": {},
   "outputs": [],
   "source": [
    "from sklearn.model_selection import train_test_split\n",
    "x_train, x_test, y_train, y_test = train_test_split(x, y, test_size = 0.6, random_state = 0)"
   ]
  },
  {
   "cell_type": "markdown",
   "metadata": {},
   "source": [
    "# Model evaluation \n",
    "\n",
    "## In this section I will be performing the modelling.\n",
    "\n",
    "## Model selected:\n",
    "### The selected model for this analysis is the \"Random Forest Regression\" model. \n",
    "\n",
    "### To support my reason of choice...at the bottom of this presentation, I do performance evaluation on three other regression models (Multiple Linear, Ridge and Lasso regression) that demonstrate brilliant performance to showcase that the Random Forest (with hyperparameter tuning) ultimately performed the best  out of all four.\n",
    "\n",
    "### Therefore, from now on, I continue my analysis using the Random Forest model.\n",
    "\n",
    "\n",
    "\n",
    "\n",
    "\n",
    "\n"
   ]
  },
  {
   "cell_type": "markdown",
   "metadata": {},
   "source": [
    "# ________"
   ]
  },
  {
   "cell_type": "markdown",
   "metadata": {},
   "source": [
    "## Validation:  Training the random forest regression model with x_train and y_train with the chosen hyperparameter values.\n",
    "\n",
    "### (Note: The Grid search that was performed to obtain the values has not been included in this report/analysis)"
   ]
  },
  {
   "cell_type": "code",
   "execution_count": 962,
   "metadata": {},
   "outputs": [],
   "source": [
    "y_train = y_train.ravel()"
   ]
  },
  {
   "cell_type": "code",
   "execution_count": 963,
   "metadata": {},
   "outputs": [
    {
     "data": {
      "text/plain": [
       "RandomForestRegressor(bootstrap=True, ccp_alpha=0.0, criterion='mse',\n",
       "                      max_depth=80, max_features='auto', max_leaf_nodes=None,\n",
       "                      max_samples=None, min_impurity_decrease=0.0,\n",
       "                      min_impurity_split=None, min_samples_leaf=10,\n",
       "                      min_samples_split=10, min_weight_fraction_leaf=0.0,\n",
       "                      n_estimators=400, n_jobs=None, oob_score=False,\n",
       "                      random_state=0, verbose=0, warm_start=False)"
      ]
     },
     "execution_count": 963,
     "metadata": {},
     "output_type": "execute_result"
    }
   ],
   "source": [
    "from sklearn.ensemble import RandomForestRegressor\n",
    "random = RandomForestRegressor(n_estimators = 400, max_depth= 80, min_samples_leaf=10, min_samples_split=10, random_state=0)\n",
    "random.fit(x_train, y_train)"
   ]
  },
  {
   "cell_type": "markdown",
   "metadata": {},
   "source": [
    "### Predicting the x_test and comparing it to the y_test"
   ]
  },
  {
   "cell_type": "code",
   "execution_count": 964,
   "metadata": {},
   "outputs": [
    {
     "name": "stdout",
     "output_type": "stream",
     "text": [
      "[[1654.1   992.  ]\n",
      " [1823.37 2400.  ]\n",
      " [1140.61 3486.  ]\n",
      " ...\n",
      " [1524.91 2309.  ]\n",
      " [2495.38 2026.  ]\n",
      " [1389.51 1933.  ]]\n"
     ]
    }
   ],
   "source": [
    "#predict\n",
    "y_pred_random = random.predict(x_test)\n",
    "np.set_printoptions(precision=2)\n",
    "print(np.concatenate((y_pred.reshape(len(y_pred),1), y_test.reshape(len(y_test),1)),1))"
   ]
  },
  {
   "cell_type": "markdown",
   "metadata": {},
   "source": [
    "## Evaluating the model performance"
   ]
  },
  {
   "cell_type": "markdown",
   "metadata": {},
   "source": [
    "### R Squared"
   ]
  },
  {
   "cell_type": "code",
   "execution_count": 965,
   "metadata": {},
   "outputs": [
    {
     "data": {
      "text/plain": [
       "0.3838869243157138"
      ]
     },
     "execution_count": 965,
     "metadata": {},
     "output_type": "execute_result"
    }
   ],
   "source": [
    "from sklearn.metrics import r2_score, mean_squared_error, mean_absolute_error\n",
    "\n",
    "r2_score(y_test, y_pred_random)"
   ]
  },
  {
   "cell_type": "markdown",
   "metadata": {},
   "source": [
    "### Mean Squared Error"
   ]
  },
  {
   "cell_type": "code",
   "execution_count": 966,
   "metadata": {},
   "outputs": [
    {
     "name": "stdout",
     "output_type": "stream",
     "text": [
      "Mean Sqaured error: 606840.6969996429\n"
     ]
    }
   ],
   "source": [
    "MSE = mean_squared_error(y_test,y_pred_random)\n",
    "print('Mean Sqaured error:',  MSE)"
   ]
  },
  {
   "cell_type": "markdown",
   "metadata": {},
   "source": [
    "### Root Mean Squared Error"
   ]
  },
  {
   "cell_type": "code",
   "execution_count": 967,
   "metadata": {},
   "outputs": [
    {
     "name": "stdout",
     "output_type": "stream",
     "text": [
      "Root mean squared error: 778.9998055196438\n"
     ]
    }
   ],
   "source": [
    "RMSE = np.sqrt(MSE)\n",
    "print('Root mean squared error:', RMSE)"
   ]
  },
  {
   "cell_type": "markdown",
   "metadata": {},
   "source": [
    "## Mean Absolute Error"
   ]
  },
  {
   "cell_type": "code",
   "execution_count": 968,
   "metadata": {},
   "outputs": [
    {
     "name": "stdout",
     "output_type": "stream",
     "text": [
      "Mean absolute error: 535.2439718784043\n"
     ]
    }
   ],
   "source": [
    "MAE = mean_absolute_error(y_test,y_pred_random)\n",
    "print('Mean absolute error:', MAE)"
   ]
  },
  {
   "cell_type": "markdown",
   "metadata": {},
   "source": [
    "# ________"
   ]
  },
  {
   "cell_type": "markdown",
   "metadata": {},
   "source": [
    "# Evaluation of the whole Train data set\n",
    "## I will now progress to training the Random Forest Regression model with the whole Train data set using the hyperparamater values obtained from the validation of the data. \n",
    "\n",
    "## With this model, I will then predict the values of the Test data set."
   ]
  },
  {
   "cell_type": "code",
   "execution_count": 969,
   "metadata": {},
   "outputs": [],
   "source": [
    "y_random = y.ravel()"
   ]
  },
  {
   "cell_type": "markdown",
   "metadata": {},
   "source": [
    "## Training the Random forest regression model with the Train data set"
   ]
  },
  {
   "cell_type": "code",
   "execution_count": 970,
   "metadata": {},
   "outputs": [
    {
     "data": {
      "text/plain": [
       "RandomForestRegressor(bootstrap=True, ccp_alpha=0.0, criterion='mse',\n",
       "                      max_depth=80, max_features='auto', max_leaf_nodes=None,\n",
       "                      max_samples=None, min_impurity_decrease=0.0,\n",
       "                      min_impurity_split=None, min_samples_leaf=10,\n",
       "                      min_samples_split=10, min_weight_fraction_leaf=0.0,\n",
       "                      n_estimators=400, n_jobs=None, oob_score=False,\n",
       "                      random_state=None, verbose=0, warm_start=False)"
      ]
     },
     "execution_count": 970,
     "metadata": {},
     "output_type": "execute_result"
    }
   ],
   "source": [
    "random_2 = RandomForestRegressor(n_estimators = 400, max_depth= 80, min_samples_leaf=10, min_samples_split=10)\n",
    "random_2.fit(x_train_z,y_random)"
   ]
  },
  {
   "cell_type": "markdown",
   "metadata": {},
   "source": [
    "## Predicting the Test data set "
   ]
  },
  {
   "cell_type": "code",
   "execution_count": 971,
   "metadata": {},
   "outputs": [],
   "source": [
    "zindy_pred = random_2.predict(x_test_z)"
   ]
  },
  {
   "cell_type": "markdown",
   "metadata": {},
   "source": [
    "## Placing the predicting values in a DataFrame"
   ]
  },
  {
   "cell_type": "code",
   "execution_count": 972,
   "metadata": {},
   "outputs": [
    {
     "data": {
      "text/html": [
       "<div>\n",
       "<style scoped>\n",
       "    .dataframe tbody tr th:only-of-type {\n",
       "        vertical-align: middle;\n",
       "    }\n",
       "\n",
       "    .dataframe tbody tr th {\n",
       "        vertical-align: top;\n",
       "    }\n",
       "\n",
       "    .dataframe thead th {\n",
       "        text-align: right;\n",
       "    }\n",
       "</style>\n",
       "<table border=\"1\" class=\"dataframe\">\n",
       "  <thead>\n",
       "    <tr style=\"text-align: right;\">\n",
       "      <th></th>\n",
       "      <th>Time from Pickup to Arrival</th>\n",
       "    </tr>\n",
       "  </thead>\n",
       "  <tbody>\n",
       "    <tr>\n",
       "      <th>0</th>\n",
       "      <td>1761.303499</td>\n",
       "    </tr>\n",
       "    <tr>\n",
       "      <th>1</th>\n",
       "      <td>1228.940364</td>\n",
       "    </tr>\n",
       "    <tr>\n",
       "      <th>2</th>\n",
       "      <td>1177.770951</td>\n",
       "    </tr>\n",
       "    <tr>\n",
       "      <th>3</th>\n",
       "      <td>1327.304651</td>\n",
       "    </tr>\n",
       "    <tr>\n",
       "      <th>4</th>\n",
       "      <td>1018.002652</td>\n",
       "    </tr>\n",
       "    <tr>\n",
       "      <th>...</th>\n",
       "      <td>...</td>\n",
       "    </tr>\n",
       "    <tr>\n",
       "      <th>7063</th>\n",
       "      <td>1927.374430</td>\n",
       "    </tr>\n",
       "    <tr>\n",
       "      <th>7064</th>\n",
       "      <td>2956.331635</td>\n",
       "    </tr>\n",
       "    <tr>\n",
       "      <th>7065</th>\n",
       "      <td>1382.797980</td>\n",
       "    </tr>\n",
       "    <tr>\n",
       "      <th>7066</th>\n",
       "      <td>2615.798835</td>\n",
       "    </tr>\n",
       "    <tr>\n",
       "      <th>7067</th>\n",
       "      <td>1863.726459</td>\n",
       "    </tr>\n",
       "  </tbody>\n",
       "</table>\n",
       "<p>7068 rows × 1 columns</p>\n",
       "</div>"
      ],
      "text/plain": [
       "      Time from Pickup to Arrival\n",
       "0                     1761.303499\n",
       "1                     1228.940364\n",
       "2                     1177.770951\n",
       "3                     1327.304651\n",
       "4                     1018.002652\n",
       "...                           ...\n",
       "7063                  1927.374430\n",
       "7064                  2956.331635\n",
       "7065                  1382.797980\n",
       "7066                  2615.798835\n",
       "7067                  1863.726459\n",
       "\n",
       "[7068 rows x 1 columns]"
      ]
     },
     "execution_count": 972,
     "metadata": {},
     "output_type": "execute_result"
    }
   ],
   "source": [
    "temp = pd.DataFrame(zindy_pred, columns =  ['Time from Pickup to Arrival'])\n",
    "temp"
   ]
  },
  {
   "cell_type": "markdown",
   "metadata": {},
   "source": [
    "## Submission"
   ]
  },
  {
   "cell_type": "code",
   "execution_count": 973,
   "metadata": {},
   "outputs": [],
   "source": [
    "output = pd.DataFrame({\"Order No\":data_test['Order No']})\n",
    "submission = output.join(temp_2)\n",
    "submission = submission.dropna()\n",
    "submission.to_csv(\"submission_.csv\", index = False)"
   ]
  },
  {
   "cell_type": "code",
   "execution_count": null,
   "metadata": {},
   "outputs": [],
   "source": []
  },
  {
   "cell_type": "markdown",
   "metadata": {},
   "source": [
    "#  Evaluation of other models\n",
    "\n",
    "### Model perfomance"
   ]
  },
  {
   "cell_type": "markdown",
   "metadata": {},
   "source": [
    "## Multiple Linear Regression"
   ]
  },
  {
   "cell_type": "code",
   "execution_count": 974,
   "metadata": {},
   "outputs": [
    {
     "data": {
      "text/plain": [
       "LinearRegression(copy_X=True, fit_intercept=True, n_jobs=None, normalize=False)"
      ]
     },
     "execution_count": 974,
     "metadata": {},
     "output_type": "execute_result"
    }
   ],
   "source": [
    "# training the Linear regression model\n",
    "\n",
    "from sklearn.linear_model import LinearRegression\n",
    "regressor = LinearRegression()\n",
    "regressor.fit(x_train, y_train)"
   ]
  },
  {
   "cell_type": "code",
   "execution_count": 975,
   "metadata": {},
   "outputs": [
    {
     "name": "stdout",
     "output_type": "stream",
     "text": [
      "[[1654.1   992.  ]\n",
      " [1823.37 2400.  ]\n",
      " [1140.61 3486.  ]\n",
      " ...\n",
      " [1524.91 2309.  ]\n",
      " [2495.38 2026.  ]\n",
      " [1389.51 1933.  ]]\n"
     ]
    }
   ],
   "source": [
    "# predicting the result\n",
    "\n",
    "y_pred_MLR = regressor.predict(x_test)\n",
    "np.set_printoptions(precision=2)\n",
    "print(np.concatenate((y_pred.reshape(len(y_pred),1), y_test.reshape(len(y_test),1)),1))"
   ]
  },
  {
   "cell_type": "code",
   "execution_count": 976,
   "metadata": {},
   "outputs": [
    {
     "name": "stdout",
     "output_type": "stream",
     "text": [
      "R2; 0.3717948379335708\n"
     ]
    }
   ],
   "source": [
    "print(\"R2;\", r2_score(y_test, y_pred_MLR))"
   ]
  },
  {
   "cell_type": "code",
   "execution_count": 977,
   "metadata": {},
   "outputs": [],
   "source": [
    "RMSE_MLR = np.sqrt(mean_squared_error(y_test,y_pred_MLR))"
   ]
  },
  {
   "cell_type": "code",
   "execution_count": 978,
   "metadata": {},
   "outputs": [
    {
     "name": "stdout",
     "output_type": "stream",
     "text": [
      "RMSE: 786.6071445758879\n"
     ]
    }
   ],
   "source": [
    "print(\"RMSE:\", RMSE_MLR)"
   ]
  },
  {
   "cell_type": "markdown",
   "metadata": {},
   "source": [
    "## Ridge"
   ]
  },
  {
   "cell_type": "code",
   "execution_count": 979,
   "metadata": {},
   "outputs": [
    {
     "name": "stderr",
     "output_type": "stream",
     "text": [
      "/opt/anaconda3/lib/python3.7/site-packages/sklearn/linear_model/_ridge.py:148: LinAlgWarning: Ill-conditioned matrix (rcond=4.66843e-31): result may not be accurate.\n",
      "  overwrite_a=True).T\n"
     ]
    },
    {
     "data": {
      "text/plain": [
       "Ridge(alpha=1.0, copy_X=True, fit_intercept=True, max_iter=None,\n",
       "      normalize=False, random_state=None, solver='auto', tol=0.001)"
      ]
     },
     "execution_count": 979,
     "metadata": {},
     "output_type": "execute_result"
    }
   ],
   "source": [
    "# training the Ridge regression model\n",
    "\n",
    "\n",
    "from sklearn.linear_model import Ridge\n",
    "ridge = Ridge()\n",
    "ridge.fit(x_train, y_train)"
   ]
  },
  {
   "cell_type": "code",
   "execution_count": 980,
   "metadata": {},
   "outputs": [
    {
     "name": "stdout",
     "output_type": "stream",
     "text": [
      "[[1654.1   992.  ]\n",
      " [1823.37 2400.  ]\n",
      " [1140.61 3486.  ]\n",
      " ...\n",
      " [1524.91 2309.  ]\n",
      " [2495.38 2026.  ]\n",
      " [1389.51 1933.  ]]\n"
     ]
    }
   ],
   "source": [
    "#predicting the result \n",
    "\n",
    "y_pred_ridge = ridge.predict(x_test)\n",
    "np.set_printoptions(precision=2)\n",
    "print(np.concatenate((y_pred.reshape(len(y_pred),1), y_test.reshape(len(y_test),1)),1))"
   ]
  },
  {
   "cell_type": "code",
   "execution_count": 981,
   "metadata": {},
   "outputs": [
    {
     "name": "stdout",
     "output_type": "stream",
     "text": [
      "R2; 0.3718649474217536\n"
     ]
    }
   ],
   "source": [
    "print(\"R2;\", r2_score(y_test, y_pred_ridge))"
   ]
  },
  {
   "cell_type": "code",
   "execution_count": 982,
   "metadata": {},
   "outputs": [],
   "source": [
    "RMSE_ridge = np.sqrt(mean_squared_error(y_test,y_pred_ridge))"
   ]
  },
  {
   "cell_type": "code",
   "execution_count": 983,
   "metadata": {},
   "outputs": [
    {
     "name": "stdout",
     "output_type": "stream",
     "text": [
      "RMSE: 786.5632495504972\n"
     ]
    }
   ],
   "source": [
    "print(\"RMSE:\", RMSE_ridge)"
   ]
  },
  {
   "cell_type": "markdown",
   "metadata": {},
   "source": [
    "## Lasso"
   ]
  },
  {
   "cell_type": "code",
   "execution_count": 984,
   "metadata": {},
   "outputs": [
    {
     "name": "stderr",
     "output_type": "stream",
     "text": [
      "/opt/anaconda3/lib/python3.7/site-packages/sklearn/linear_model/_coordinate_descent.py:476: ConvergenceWarning: Objective did not converge. You might want to increase the number of iterations. Duality gap: 2536921366.1731873, tolerance: 813375.5386220637\n",
      "  positive)\n"
     ]
    },
    {
     "data": {
      "text/plain": [
       "Lasso(alpha=1.0, copy_X=True, fit_intercept=True, max_iter=1000,\n",
       "      normalize=False, positive=False, precompute=False, random_state=None,\n",
       "      selection='cyclic', tol=0.0001, warm_start=False)"
      ]
     },
     "execution_count": 984,
     "metadata": {},
     "output_type": "execute_result"
    }
   ],
   "source": [
    "# training the Lasso regression model\n",
    "\n",
    "from sklearn.linear_model import Lasso\n",
    "lasso = Lasso()\n",
    "lasso.fit(x_train, y_train)"
   ]
  },
  {
   "cell_type": "code",
   "execution_count": 985,
   "metadata": {},
   "outputs": [
    {
     "name": "stdout",
     "output_type": "stream",
     "text": [
      "[[1654.1   992.  ]\n",
      " [1823.37 2400.  ]\n",
      " [1140.61 3486.  ]\n",
      " ...\n",
      " [1524.91 2309.  ]\n",
      " [2495.38 2026.  ]\n",
      " [1389.51 1933.  ]]\n"
     ]
    }
   ],
   "source": [
    "#predicting the result \n",
    "\n",
    "y_pred_lasso = lasso.predict(x_test)\n",
    "np.set_printoptions(precision=2)\n",
    "print(np.concatenate((y_pred.reshape(len(y_pred),1), y_test.reshape(len(y_test),1)),1))"
   ]
  },
  {
   "cell_type": "code",
   "execution_count": 986,
   "metadata": {},
   "outputs": [
    {
     "name": "stdout",
     "output_type": "stream",
     "text": [
      "R2: 0.37118204558208934\n"
     ]
    }
   ],
   "source": [
    "print(\"R2:\", r2_score(y_test, y_pred_lasso))"
   ]
  },
  {
   "cell_type": "code",
   "execution_count": 987,
   "metadata": {},
   "outputs": [],
   "source": [
    "RMSE_lasso = np.sqrt(mean_squared_error(y_test,y_pred_lasso))"
   ]
  },
  {
   "cell_type": "code",
   "execution_count": 988,
   "metadata": {},
   "outputs": [
    {
     "name": "stdout",
     "output_type": "stream",
     "text": [
      "RMSE: 786.9907050574767\n"
     ]
    }
   ],
   "source": [
    "print(\"RMSE:\", RMSE_lasso)"
   ]
  },
  {
   "cell_type": "code",
   "execution_count": null,
   "metadata": {},
   "outputs": [],
   "source": []
  },
  {
   "cell_type": "markdown",
   "metadata": {},
   "source": [
    "# Model Analysis"
   ]
  },
  {
   "cell_type": "code",
   "execution_count": 989,
   "metadata": {},
   "outputs": [
    {
     "name": "stdout",
     "output_type": "stream",
     "text": [
      "RMSE Random forest: 778.9998055196438 \n",
      "RMSE MLR: 786.6071445758879 \n",
      "RMSE Lasso: 786.9907050574767 \n",
      "RMSE Ridge: 786.5632495504972\n"
     ]
    }
   ],
   "source": [
    "print(\"RMSE Random forest:\", RMSE, \"\\nRMSE MLR:\", RMSE_MLR, \"\\nRMSE Lasso:\", RMSE_lasso, \"\\nRMSE Ridge:\", RMSE_ridge)"
   ]
  },
  {
   "cell_type": "markdown",
   "metadata": {},
   "source": [
    "### Firstly, when comparing all four models using the Root mean square error metric, we can see that the Random Forest regression performs the best. It also slightly has a higher R2 out of all four models.\n",
    "\n",
    "### When assessing the accuracy of our models, especially the chosen model, \"Random Forest Regression\". We can see good and not so good predictions, this may be due to overfitting of the data or not hyper paramter tuning the model to get it to perfom even better. \n",
    "\n",
    "### Zindy result:\n",
    "\n",
    "\n",
    "### My Zindy result, however, stands at an RMSE score: 748.3043705. \n",
    "### This means that when my predicted depended variable is run against the true depended variable of the test set, the chosen Random forest regression model performs much better than expected. "
   ]
  },
  {
   "cell_type": "code",
   "execution_count": null,
   "metadata": {},
   "outputs": [],
   "source": []
  },
  {
   "cell_type": "code",
   "execution_count": null,
   "metadata": {},
   "outputs": [],
   "source": []
  }
 ],
 "metadata": {
  "kernelspec": {
   "display_name": "Python 3",
   "language": "python",
   "name": "python3"
  },
  "language_info": {
   "codemirror_mode": {
    "name": "ipython",
    "version": 3
   },
   "file_extension": ".py",
   "mimetype": "text/x-python",
   "name": "python",
   "nbconvert_exporter": "python",
   "pygments_lexer": "ipython3",
   "version": "3.7.4"
  }
 },
 "nbformat": 4,
 "nbformat_minor": 4
}
